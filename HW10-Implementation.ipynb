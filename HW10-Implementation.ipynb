{
 "cells": [
  {
   "cell_type": "markdown",
   "source": [
    "# HW10 Problem 7 Implementation\n",
    "\n",
    "You are not allowed to use a library function that directly calls for a statistical test. For this question, use $\\alpha = 0.05$.\n"
   ],
   "metadata": {
    "collapsed": false
   },
   "id": "a42631b3e73ddd10"
  },
  {
   "cell_type": "markdown",
   "source": [
    "(a) Recall that a one-sample $z$-test is calculated by \n",
    "$$z = \\frac{x - \\mu}{\\sigma / \\sqrt{n}},$$\n",
    "where $x$ is the sample mean, $\\mu$ is the population mean, $\\sigma$ is the population standard deviation, and $n$ is the sample size.\n",
    "    \n",
    "Write a function $one\\_sample\\_z\\_test$ that takes in the sample and population parameters (both as list of numbers) and produces the $z$-score above.\n"
   ],
   "metadata": {
    "collapsed": false
   },
   "id": "a40d21b1da5dfede"
  },
  {
   "cell_type": "code",
   "execution_count": 1,
   "outputs": [
    {
     "name": "stdout",
     "output_type": "stream",
     "text": [
      "The example z-score is: 1.5652475842498512\n"
     ]
    }
   ],
   "source": [
    "import numpy as np\n",
    "\n",
    "def one_sample_z_test(sample, params):\n",
    "    \"\"\"\n",
    "    Performs a one-sample z-test and returns the z-score.\n",
    "    \n",
    "    :param sample: List of sample values.\n",
    "    :param params: List of parameters [mu, sigma]\n",
    "    :return: z-score\n",
    "    \"\"\"\n",
    "    sample_mean = np.mean(sample)\n",
    "    sample_size = len(sample)\n",
    "    z_score = (sample_mean - params[0]) / (params[1] / np.sqrt(sample_size))\n",
    "    return z_score\n",
    "\n",
    "# Example usage:\n",
    "sample = [50, 52, 53, 54, 55]  # Replace with your sample data\n",
    "mu = 50           # Replace with the population mean\n",
    "sigma = 4             # Replace with the population standard deviation\n",
    "params = [mu, sigma]\n",
    "\n",
    "z_score = one_sample_z_test(sample, params)\n",
    "print(f\"The example z-score is: {z_score}\")"
   ],
   "metadata": {
    "collapsed": false,
    "ExecuteTime": {
     "end_time": "2023-12-12T17:44:46.813217100Z",
     "start_time": "2023-12-12T17:44:46.561407700Z"
    }
   },
   "id": "aeeb012bd2483ab3"
  },
  {
   "cell_type": "markdown",
   "source": [
    "(b) Recall that a two-sample $z$-test is calculated by:\n",
    "$$z = \\frac{1}{\\sqrt{\\frac{\\sigma_1^2}{n_1} + \\frac{\\sigma_2^2}{n_2}}} \\left\\{(x_1 - x_2) - (\\mu_1 - \\mu_2)\\right\\},$$\n",
    "where $x_1, \\mu_1, \\sigma_1$ and $n_1$ are the sample mean, population mean, population standard deviation, and sample size of the first group, and similarly for $x_2, \\mu_2, \\sigma_2, n_2$.\n",
    "    \n",
    "Write a function $two\\_sample\\_z\\_test$ that takes in the two samples and the two populations parameters (all as list of numbers) and produces the $z$-score above."
   ],
   "metadata": {
    "collapsed": false
   },
   "id": "57296d8f7955aac0"
  },
  {
   "cell_type": "code",
   "execution_count": 2,
   "outputs": [
    {
     "name": "stdout",
     "output_type": "stream",
     "text": [
      "The example z-score is: 0.34921514788478913\n"
     ]
    }
   ],
   "source": [
    "def two_sample_z_test(sample1, sample2, population1_params, population2_params):\n",
    "    \"\"\"\n",
    "    Performs a two-sample z-test and returns the z-score.\n",
    "    \n",
    "    :param sample1: List of sample values for the first group.\n",
    "    :param sample2: List of sample values for the second group.\n",
    "    :param population1_params: Tuple containing the mean and standard deviation of the first population.\n",
    "    :param population2_params: Tuple containing the mean and standard deviation of the second population.\n",
    "    :return: z-score\n",
    "    \"\"\"\n",
    "    x1, mu1, sigma1, n1 = np.mean(sample1), *population1_params, len(sample1)\n",
    "    x2, mu2, sigma2, n2 = np.mean(sample2), *population2_params, len(sample2)\n",
    "\n",
    "    z_score = ((x1 - x2) - (mu1 - mu2)) / np.sqrt(sigma1**2/n1 + sigma2**2/n2)\n",
    "    return z_score\n",
    "\n",
    "# Example usage:\n",
    "sample1 = [60, 62, 61, 63, 64]  # Replace with your first sample data\n",
    "sample2 = [55, 57, 56, 58, 59]  # Replace with your second sample data\n",
    "\n",
    "population1_params = (62, 5)  # Replace with the mean and std of the first population\n",
    "population2_params = (58, 4)  # Replace with the mean and std of the second population\n",
    "\n",
    "z_score = two_sample_z_test(sample1, sample2, population1_params, population2_params)\n",
    "print(f\"The example z-score is: {z_score}\")"
   ],
   "metadata": {
    "collapsed": false,
    "ExecuteTime": {
     "end_time": "2023-12-12T17:49:01.953974800Z",
     "start_time": "2023-12-12T17:49:01.922458900Z"
    }
   },
   "id": "1bc2a524b74f3d90"
  },
  {
   "cell_type": "markdown",
   "source": [
    "(c) Using the functions from above, and the IMDB dataset at the following [link](https://stats-lab-data.surge.sh/IMDB-Movie-Data.csv), test the following hypothesis (as a function of $\\mu$):\n",
    "\n",
    "- $H_{Null}$: The population mean of the Metascore ratings of movies released in the year 2016 is $\\mu$.\n",
    "- $H_{Alternate}$: The population mean of the Metascore ratings of movies released in the year 2016 is different from $\\mu$. \n",
    "\n",
    "Keep in mind the assumptions of the z-test, and make sure to justify why you can use it in regards to this data. Further, for what values of $\\mu$ would the null hypothesis be rejected? \n"
   ],
   "metadata": {
    "collapsed": false
   },
   "id": "e887c1022f5b10cf"
  },
  {
   "cell_type": "code",
   "execution_count": 5,
   "outputs": [
    {
     "data": {
      "text/plain": "     Rank                    Title                     Genre  \\\n0       1  Guardians of the Galaxy   Action,Adventure,Sci-Fi   \n1       2               Prometheus  Adventure,Mystery,Sci-Fi   \n2       3                    Split           Horror,Thriller   \n3       4                     Sing   Animation,Comedy,Family   \n4       5            Suicide Squad  Action,Adventure,Fantasy   \n..    ...                      ...                       ...   \n995   996     Secret in Their Eyes       Crime,Drama,Mystery   \n996   997          Hostel: Part II                    Horror   \n997   998   Step Up 2: The Streets       Drama,Music,Romance   \n998   999             Search Party          Adventure,Comedy   \n999  1000               Nine Lives     Comedy,Family,Fantasy   \n\n                                           Description              Director  \\\n0    A group of intergalactic criminals are forced ...            James Gunn   \n1    Following clues to the origin of mankind, a te...          Ridley Scott   \n2    Three girls are kidnapped by a man with a diag...    M. Night Shyamalan   \n3    In a city of humanoid animals, a hustling thea...  Christophe Lourdelet   \n4    A secret government agency recruits some of th...            David Ayer   \n..                                                 ...                   ...   \n995  A tight-knit team of rising investigators, alo...             Billy Ray   \n996  Three American college students studying abroa...              Eli Roth   \n997  Romantic sparks occur between two dance studen...            Jon M. Chu   \n998  A pair of friends embark on a mission to reuni...        Scot Armstrong   \n999  A stuffy businessman finds himself trapped ins...      Barry Sonnenfeld   \n\n                                                Actors  Year  \\\n0    Chris Pratt, Vin Diesel, Bradley Cooper, Zoe S...  2014   \n1    Noomi Rapace, Logan Marshall-Green, Michael Fa...  2012   \n2    James McAvoy, Anya Taylor-Joy, Haley Lu Richar...  2016   \n3    Matthew McConaughey,Reese Witherspoon, Seth Ma...  2016   \n4    Will Smith, Jared Leto, Margot Robbie, Viola D...  2016   \n..                                                 ...   ...   \n995  Chiwetel Ejiofor, Nicole Kidman, Julia Roberts...  2015   \n996  Lauren German, Heather Matarazzo, Bijou Philli...  2007   \n997  Robert Hoffman, Briana Evigan, Cassie Ventura,...  2008   \n998  Adam Pally, T.J. Miller, Thomas Middleditch,Sh...  2014   \n999  Kevin Spacey, Jennifer Garner, Robbie Amell,Ch...  2016   \n\n     Runtime (Minutes)  Rating   Votes  Revenue (Millions)  Metascore  \n0                  121     8.1  757074              333.13       76.0  \n1                  124     7.0  485820              126.46       65.0  \n2                  117     7.3  157606              138.12       62.0  \n3                  108     7.2   60545              270.32       59.0  \n4                  123     6.2  393727              325.02       40.0  \n..                 ...     ...     ...                 ...        ...  \n995                111     6.2   27585                 NaN       45.0  \n996                 94     5.5   73152               17.54       46.0  \n997                 98     6.2   70699               58.01       50.0  \n998                 93     5.6    4881                 NaN       22.0  \n999                 87     5.3   12435               19.64       11.0  \n\n[1000 rows x 12 columns]",
      "text/html": "<div>\n<style scoped>\n    .dataframe tbody tr th:only-of-type {\n        vertical-align: middle;\n    }\n\n    .dataframe tbody tr th {\n        vertical-align: top;\n    }\n\n    .dataframe thead th {\n        text-align: right;\n    }\n</style>\n<table border=\"1\" class=\"dataframe\">\n  <thead>\n    <tr style=\"text-align: right;\">\n      <th></th>\n      <th>Rank</th>\n      <th>Title</th>\n      <th>Genre</th>\n      <th>Description</th>\n      <th>Director</th>\n      <th>Actors</th>\n      <th>Year</th>\n      <th>Runtime (Minutes)</th>\n      <th>Rating</th>\n      <th>Votes</th>\n      <th>Revenue (Millions)</th>\n      <th>Metascore</th>\n    </tr>\n  </thead>\n  <tbody>\n    <tr>\n      <th>0</th>\n      <td>1</td>\n      <td>Guardians of the Galaxy</td>\n      <td>Action,Adventure,Sci-Fi</td>\n      <td>A group of intergalactic criminals are forced ...</td>\n      <td>James Gunn</td>\n      <td>Chris Pratt, Vin Diesel, Bradley Cooper, Zoe S...</td>\n      <td>2014</td>\n      <td>121</td>\n      <td>8.1</td>\n      <td>757074</td>\n      <td>333.13</td>\n      <td>76.0</td>\n    </tr>\n    <tr>\n      <th>1</th>\n      <td>2</td>\n      <td>Prometheus</td>\n      <td>Adventure,Mystery,Sci-Fi</td>\n      <td>Following clues to the origin of mankind, a te...</td>\n      <td>Ridley Scott</td>\n      <td>Noomi Rapace, Logan Marshall-Green, Michael Fa...</td>\n      <td>2012</td>\n      <td>124</td>\n      <td>7.0</td>\n      <td>485820</td>\n      <td>126.46</td>\n      <td>65.0</td>\n    </tr>\n    <tr>\n      <th>2</th>\n      <td>3</td>\n      <td>Split</td>\n      <td>Horror,Thriller</td>\n      <td>Three girls are kidnapped by a man with a diag...</td>\n      <td>M. Night Shyamalan</td>\n      <td>James McAvoy, Anya Taylor-Joy, Haley Lu Richar...</td>\n      <td>2016</td>\n      <td>117</td>\n      <td>7.3</td>\n      <td>157606</td>\n      <td>138.12</td>\n      <td>62.0</td>\n    </tr>\n    <tr>\n      <th>3</th>\n      <td>4</td>\n      <td>Sing</td>\n      <td>Animation,Comedy,Family</td>\n      <td>In a city of humanoid animals, a hustling thea...</td>\n      <td>Christophe Lourdelet</td>\n      <td>Matthew McConaughey,Reese Witherspoon, Seth Ma...</td>\n      <td>2016</td>\n      <td>108</td>\n      <td>7.2</td>\n      <td>60545</td>\n      <td>270.32</td>\n      <td>59.0</td>\n    </tr>\n    <tr>\n      <th>4</th>\n      <td>5</td>\n      <td>Suicide Squad</td>\n      <td>Action,Adventure,Fantasy</td>\n      <td>A secret government agency recruits some of th...</td>\n      <td>David Ayer</td>\n      <td>Will Smith, Jared Leto, Margot Robbie, Viola D...</td>\n      <td>2016</td>\n      <td>123</td>\n      <td>6.2</td>\n      <td>393727</td>\n      <td>325.02</td>\n      <td>40.0</td>\n    </tr>\n    <tr>\n      <th>...</th>\n      <td>...</td>\n      <td>...</td>\n      <td>...</td>\n      <td>...</td>\n      <td>...</td>\n      <td>...</td>\n      <td>...</td>\n      <td>...</td>\n      <td>...</td>\n      <td>...</td>\n      <td>...</td>\n      <td>...</td>\n    </tr>\n    <tr>\n      <th>995</th>\n      <td>996</td>\n      <td>Secret in Their Eyes</td>\n      <td>Crime,Drama,Mystery</td>\n      <td>A tight-knit team of rising investigators, alo...</td>\n      <td>Billy Ray</td>\n      <td>Chiwetel Ejiofor, Nicole Kidman, Julia Roberts...</td>\n      <td>2015</td>\n      <td>111</td>\n      <td>6.2</td>\n      <td>27585</td>\n      <td>NaN</td>\n      <td>45.0</td>\n    </tr>\n    <tr>\n      <th>996</th>\n      <td>997</td>\n      <td>Hostel: Part II</td>\n      <td>Horror</td>\n      <td>Three American college students studying abroa...</td>\n      <td>Eli Roth</td>\n      <td>Lauren German, Heather Matarazzo, Bijou Philli...</td>\n      <td>2007</td>\n      <td>94</td>\n      <td>5.5</td>\n      <td>73152</td>\n      <td>17.54</td>\n      <td>46.0</td>\n    </tr>\n    <tr>\n      <th>997</th>\n      <td>998</td>\n      <td>Step Up 2: The Streets</td>\n      <td>Drama,Music,Romance</td>\n      <td>Romantic sparks occur between two dance studen...</td>\n      <td>Jon M. Chu</td>\n      <td>Robert Hoffman, Briana Evigan, Cassie Ventura,...</td>\n      <td>2008</td>\n      <td>98</td>\n      <td>6.2</td>\n      <td>70699</td>\n      <td>58.01</td>\n      <td>50.0</td>\n    </tr>\n    <tr>\n      <th>998</th>\n      <td>999</td>\n      <td>Search Party</td>\n      <td>Adventure,Comedy</td>\n      <td>A pair of friends embark on a mission to reuni...</td>\n      <td>Scot Armstrong</td>\n      <td>Adam Pally, T.J. Miller, Thomas Middleditch,Sh...</td>\n      <td>2014</td>\n      <td>93</td>\n      <td>5.6</td>\n      <td>4881</td>\n      <td>NaN</td>\n      <td>22.0</td>\n    </tr>\n    <tr>\n      <th>999</th>\n      <td>1000</td>\n      <td>Nine Lives</td>\n      <td>Comedy,Family,Fantasy</td>\n      <td>A stuffy businessman finds himself trapped ins...</td>\n      <td>Barry Sonnenfeld</td>\n      <td>Kevin Spacey, Jennifer Garner, Robbie Amell,Ch...</td>\n      <td>2016</td>\n      <td>87</td>\n      <td>5.3</td>\n      <td>12435</td>\n      <td>19.64</td>\n      <td>11.0</td>\n    </tr>\n  </tbody>\n</table>\n<p>1000 rows × 12 columns</p>\n</div>"
     },
     "metadata": {},
     "output_type": "display_data"
    },
    {
     "name": "stdout",
     "output_type": "stream",
     "text": [
      "(297, 12)\n"
     ]
    }
   ],
   "source": [
    "import pandas as pd\n",
    "\n",
    "alpha = 0.05\n",
    "\n",
    "# Load the dataset\n",
    "df = pd.read_csv('https://stats-lab-data.surge.sh/IMDB-Movie-Data.csv')\n",
    "display(df)\n",
    "\n",
    "movies_2016 = df[df['Year'] == 2016]\n",
    "print(movies_2016.shape)"
   ],
   "metadata": {
    "collapsed": false,
    "ExecuteTime": {
     "end_time": "2023-12-12T17:59:28.232030200Z",
     "start_time": "2023-12-12T17:59:27.523698900Z"
    }
   },
   "id": "61bb1a04431bfbf5"
  },
  {
   "cell_type": "markdown",
   "source": [
    "The sample dataset of the Metascore ratings of movies released in the year 2016 is large enough for us to conduct z_test."
   ],
   "metadata": {
    "collapsed": false
   },
   "id": "768268574fb6fbcb"
  },
  {
   "cell_type": "code",
   "execution_count": 13,
   "outputs": [
    {
     "name": "stdout",
     "output_type": "stream",
     "text": [
      "Values of mu for which the null hypothesis is not rejected:\n",
      " [57, 58, 59, 60]\n",
      "Values of mu for which the null hypothesis is rejected: \n",
      " [11, 12, 13, 14, 15, 16, 17, 18, 19, 20, 21, 22, 23, 24, 25, 26, 27, 28, 29, 30, 31, 32, 33, 34, 35, 36, 37, 38, 39, 40, 41, 42, 43, 44, 45, 46, 47, 48, 49, 50, 51, 52, 53, 54, 55, 56, 61, 62, 63, 64, 65, 66, 67, 68, 69, 70, 71, 72, 73, 74, 75, 76, 77, 78, 79, 80, 81, 82, 83, 84, 85, 86, 87, 88, 89, 90, 91, 92, 93, 94, 95, 96, 97, 98, 99, 100]\n"
     ]
    }
   ],
   "source": [
    "# Population parameters (you need to provide these)\n",
    "population_std = df['Metascore'].std()\n",
    "\n",
    "# Perform the one-sample z-test\n",
    "# Testing the hypothesis for a range of mu values\n",
    "mu_values = range(int(df['Metascore'].min()), int(df['Metascore'].max()) + 1) \n",
    "alpha = 0.05\n",
    "z_critical = 1.96  # Approximate z-value for a two-tailed test with alpha = 0.05\n",
    "\n",
    "rejected_mu_values = []\n",
    "mu_not_rejected = [] \n",
    "for mu in mu_values:\n",
    "    z_score = one_sample_z_test(movies_2016['Metascore'], [mu, population_std])\n",
    "    if abs(z_score) > z_critical:\n",
    "        rejected_mu_values.append(mu)\n",
    "    else:\n",
    "        mu_not_rejected.append(mu)\n",
    "\n",
    "print(f\"Values of mu for which the null hypothesis is not rejected:\\n {mu_not_rejected}\")\n",
    "print(f\"Values of mu for which the null hypothesis is rejected: \\n {rejected_mu_values}\")"
   ],
   "metadata": {
    "collapsed": false,
    "ExecuteTime": {
     "end_time": "2023-12-12T18:17:57.343255200Z",
     "start_time": "2023-12-12T18:17:57.317524100Z"
    }
   },
   "id": "447c9b86b97737b7"
  },
  {
   "cell_type": "markdown",
   "source": [
    "(d) Additionally, test the following hypothesis:\n",
    "- $H_{Null}$ : There is no difference in the population mean of the Metascore ratings of movies released in the year 2015 and 2007.\n",
    "- $H_{Alternate}$: There is a significant difference in the population mean of the Metascore ratings of movies released in the year 2015 and 2007.\n",
    "\n",
    "Is it possible to test this hypothesis with a z-test? Can you test the following hypothesis with a two sample z-test? Is there a better statistical test that we can use that doesn't depend on the distribution of the data?\n",
    "\n",
    "**Answer:** As the sample size are large enough, it's possible to test the hypothesis with a z-test. But we can also test the statistics using two-sample t-test given the population std is unknown. Below we will only conduct the two sample z-test. We cannot reject the null hypothesis by the z-test."
   ],
   "metadata": {
    "collapsed": false
   },
   "id": "2b63059386d0e45"
  },
  {
   "cell_type": "code",
   "execution_count": 15,
   "outputs": [
    {
     "name": "stdout",
     "output_type": "stream",
     "text": [
      "(53, 12)\n",
      "(127, 12)\n"
     ]
    }
   ],
   "source": [
    "movies_2007 = df[df['Year'] == 2007]\n",
    "print(movies_2007.shape)\n",
    "\n",
    "movies_2015 = df[df['Year'] == 2015]\n",
    "print(movies_2015.shape)"
   ],
   "metadata": {
    "collapsed": false,
    "ExecuteTime": {
     "end_time": "2023-12-12T18:25:18.790662400Z",
     "start_time": "2023-12-12T18:25:18.774537600Z"
    }
   },
   "id": "d9f606292f133eb8"
  },
  {
   "cell_type": "code",
   "execution_count": 18,
   "outputs": [
    {
     "name": "stdout",
     "output_type": "stream",
     "text": [
      "The test z-score is -2.49389679875067, whether to reject H0: False\n"
     ]
    }
   ],
   "source": [
    "metascores_2015 = df[df['Year'] == 2015]['Metascore'].dropna()\n",
    "metascores_2007 = df[df['Year'] == 2007]['Metascore'].dropna()\n",
    "\n",
    "# suppose mu1=mu2 = population mean\n",
    "population_mean = df['Metascore'].mean()\n",
    "mu1, mu2 = population_mean, population_mean\n",
    "std_2015, std_2007 = metascores_2015.std(), metascores_2007.std()\n",
    "\n",
    "z_score = two_sample_z_test(metascores_2015, metascores_2007, [mu1, std_2015], [mu2, std_2007])\n",
    "print(f'The test z-score is {z_score}, whether to reject H0: {z_score > z_critical}')"
   ],
   "metadata": {
    "collapsed": false,
    "ExecuteTime": {
     "end_time": "2023-12-12T18:31:35.801098200Z",
     "start_time": "2023-12-12T18:31:35.760939400Z"
    }
   },
   "id": "f76427ad00aef7be"
  }
 ],
 "metadata": {
  "kernelspec": {
   "display_name": "Python 3",
   "language": "python",
   "name": "python3"
  },
  "language_info": {
   "codemirror_mode": {
    "name": "ipython",
    "version": 2
   },
   "file_extension": ".py",
   "mimetype": "text/x-python",
   "name": "python",
   "nbconvert_exporter": "python",
   "pygments_lexer": "ipython2",
   "version": "2.7.6"
  }
 },
 "nbformat": 4,
 "nbformat_minor": 5
}
