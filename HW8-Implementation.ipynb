{
 "cells": [
  {
   "cell_type": "markdown",
   "source": [
    "# HW8 Implementation"
   ],
   "metadata": {
    "collapsed": false
   },
   "id": "189add86bd37f6cf"
  },
  {
   "cell_type": "code",
   "execution_count": 2,
   "outputs": [],
   "source": [
    "import numpy as np"
   ],
   "metadata": {
    "collapsed": false,
    "ExecuteTime": {
     "end_time": "2023-11-16T02:02:13.582150700Z",
     "start_time": "2023-11-16T02:02:13.297674800Z"
    }
   },
   "id": "99adb5ccc15d655c"
  },
  {
   "cell_type": "code",
   "execution_count": 3,
   "outputs": [],
   "source": [
    "P = np.array([\n",
    "    [0, 3/4, 0, 1/4, 0],\n",
    "    [3/4, 0, 0, 1/4, 0],\n",
    "    [0, 1/2, 1/2, 0, 0],\n",
    "    [0, 0, 0, 0, 1],\n",
    "    [0, 1/2, 1/2, 0, 0]\n",
    "])\n",
    "\n",
    "# Calculating P^2 and P^3\n",
    "P_squared = np.linalg.matrix_power(P, 2)\n",
    "P_cubed = np.linalg.matrix_power(P, 3)"
   ],
   "metadata": {
    "collapsed": false,
    "ExecuteTime": {
     "end_time": "2023-11-16T02:02:13.657993600Z",
     "start_time": "2023-11-16T02:02:13.582150700Z"
    }
   },
   "id": "f9c0c00fa6ec0601"
  },
  {
   "cell_type": "code",
   "execution_count": 8,
   "outputs": [
    {
     "name": "stdout",
     "output_type": "stream",
     "text": [
      "[[0.       0.546875 0.125    0.140625 0.1875  ]\n",
      " [0.421875 0.125    0.125    0.140625 0.1875  ]\n",
      " [0.1875   0.40625  0.125    0.15625  0.125   ]\n",
      " [0.375    0.25     0.25     0.125    0.      ]\n",
      " [0.1875   0.40625  0.125    0.15625  0.125   ]]\n"
     ]
    }
   ],
   "source": [
    "print(P_cubed)"
   ],
   "metadata": {
    "collapsed": false,
    "ExecuteTime": {
     "end_time": "2023-11-16T02:09:21.217844200Z",
     "start_time": "2023-11-16T02:09:21.180897100Z"
    }
   },
   "id": "bad117d5cc4b468d"
  },
  {
   "cell_type": "code",
   "execution_count": 12,
   "outputs": [
    {
     "data": {
      "text/plain": "0.1875"
     },
     "execution_count": 12,
     "metadata": {},
     "output_type": "execute_result"
    }
   ],
   "source": [
    "3/16"
   ],
   "metadata": {
    "collapsed": false,
    "ExecuteTime": {
     "end_time": "2023-11-16T02:13:34.057174Z",
     "start_time": "2023-11-16T02:13:34.026022700Z"
    }
   },
   "id": "ff925c926a7a4fde"
  },
  {
   "cell_type": "code",
   "execution_count": 15,
   "outputs": [
    {
     "data": {
      "text/plain": "10.0"
     },
     "execution_count": 15,
     "metadata": {},
     "output_type": "execute_result"
    }
   ],
   "source": [
    "0.15625*64"
   ],
   "metadata": {
    "collapsed": false,
    "ExecuteTime": {
     "end_time": "2023-11-16T02:38:57.243485600Z",
     "start_time": "2023-11-16T02:38:57.207652Z"
    }
   },
   "id": "2395a8025f0076fd"
  },
  {
   "cell_type": "code",
   "execution_count": null,
   "outputs": [],
   "source": [],
   "metadata": {
    "collapsed": false
   },
   "id": "62af55833351d677"
  }
 ],
 "metadata": {
  "kernelspec": {
   "display_name": "Python 3",
   "language": "python",
   "name": "python3"
  },
  "language_info": {
   "codemirror_mode": {
    "name": "ipython",
    "version": 2
   },
   "file_extension": ".py",
   "mimetype": "text/x-python",
   "name": "python",
   "nbconvert_exporter": "python",
   "pygments_lexer": "ipython2",
   "version": "2.7.6"
  }
 },
 "nbformat": 4,
 "nbformat_minor": 5
}
