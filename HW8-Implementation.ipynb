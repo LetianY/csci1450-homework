{
 "cells": [
  {
   "cell_type": "markdown",
   "id": "189add86bd37f6cf",
   "metadata": {
    "collapsed": false,
    "jupyter": {
     "outputs_hidden": false
    }
   },
   "source": [
    "# HW8 Implementation"
   ]
  },
  {
   "cell_type": "code",
   "execution_count": 2,
   "id": "99adb5ccc15d655c",
   "metadata": {
    "ExecuteTime": {
     "end_time": "2023-11-16T02:02:13.582150700Z",
     "start_time": "2023-11-16T02:02:13.297674800Z"
    },
    "collapsed": false,
    "jupyter": {
     "outputs_hidden": false
    }
   },
   "outputs": [],
   "source": [
    "import numpy as np"
   ]
  },
  {
   "cell_type": "code",
   "execution_count": 3,
   "id": "f9c0c00fa6ec0601",
   "metadata": {
    "ExecuteTime": {
     "end_time": "2023-11-16T02:02:13.657993600Z",
     "start_time": "2023-11-16T02:02:13.582150700Z"
    },
    "collapsed": false,
    "jupyter": {
     "outputs_hidden": false
    }
   },
   "outputs": [],
   "source": [
    "P = np.array([\n",
    "    [0, 3/4, 0, 1/4, 0],\n",
    "    [3/4, 0, 0, 1/4, 0],\n",
    "    [0, 1/2, 1/2, 0, 0],\n",
    "    [0, 0, 0, 0, 1],\n",
    "    [0, 1/2, 1/2, 0, 0]\n",
    "])\n",
    "\n",
    "# Calculating P^2 and P^3\n",
    "P_squared = np.linalg.matrix_power(P, 2)\n",
    "P_cubed = np.linalg.matrix_power(P, 3)"
   ]
  },
  {
   "cell_type": "code",
   "execution_count": 8,
   "id": "bad117d5cc4b468d",
   "metadata": {
    "ExecuteTime": {
     "end_time": "2023-11-16T02:09:21.217844200Z",
     "start_time": "2023-11-16T02:09:21.180897100Z"
    },
    "collapsed": false,
    "jupyter": {
     "outputs_hidden": false
    }
   },
   "outputs": [
    {
     "name": "stdout",
     "output_type": "stream",
     "text": [
      "[[0.       0.546875 0.125    0.140625 0.1875  ]\n",
      " [0.421875 0.125    0.125    0.140625 0.1875  ]\n",
      " [0.1875   0.40625  0.125    0.15625  0.125   ]\n",
      " [0.375    0.25     0.25     0.125    0.      ]\n",
      " [0.1875   0.40625  0.125    0.15625  0.125   ]]\n"
     ]
    }
   ],
   "source": [
    "print(P_cubed)"
   ]
  },
  {
   "cell_type": "markdown",
   "id": "4b53e2e3b2762251",
   "metadata": {
    "collapsed": false,
    "jupyter": {
     "outputs_hidden": false
    }
   },
   "source": [
    "# Problem 7 Implementation\n",
    "\n",
    "Enyan is playing the mobile game **Clash of Probability**. For its $10$ year anniversary promotion, **Clash of Probability** has a special event where you can win one of its **legendary** characters ``Thousand Feather Sapphire Phoenix\". The rules of the event is as follows:\n",
    "\n",
    "- There are $9$ cards $C_1, ..., C_9$ on the screen facing down.\n",
    "- Each day, the game will randomly flip a card with equal probability.\n",
    "- A card that has been flipped may be flipped back. For example, if $C_1$ is flipped on the first day, it may be flipped back on the second day.\n",
    "- Your goal is to flip all $9$ cards over facing up.\n",
    "\n",
    "Enyan wants to know the approximate expected number of days to obtain the \"Thousand Feather Sapphire Phoenix\". "
   ]
  },
  {
   "cell_type": "markdown",
   "id": "a5d1c846f9dadcc3",
   "metadata": {
    "collapsed": false,
    "jupyter": {
     "outputs_hidden": false
    }
   },
   "source": [
    "(a) This problem may be modeled as a Markov chain with one absorbing state (when all the cards are flipped over facing up). Write a program that computes the state transition matrix $M$ of this Markov chain in canonical form and explain your thought process. We say the matrix $M$ is in canonical form if the rows and columns of $M$ are rearranged so that the absorbing state is listed last:\n",
    "$$M = \n",
    "\\left(\\begin{array}{@{}c|c@{}}\n",
    "  \\begin{matrix}\n",
    "  Q\n",
    "  \\end{matrix}\n",
    "  & R  \\\\\n",
    "\\hline\n",
    "  0\\ ...\\ 0 & 1\n",
    "\\end{array}\\right)\n",
    "$$"
   ]
  },
  {
   "cell_type": "markdown",
   "id": "ec9ec2ac3989bcc6",
   "metadata": {
    "collapsed": false,
    "jupyter": {
     "outputs_hidden": false
    }
   },
   "source": [
    "**Answer:** There are in total $2^9=512$ states in this Markov process. We let the absorbing state (with all cards facing up) to be the $512-th$ state.\n",
    "\n",
    "For each state $i \\neq 512$, it can transit to $9$ other states $j$, with equal probability $1/9$. If $j \\neq 512$, we also have $M_{ji}=1/9$. The matrix $Q$ is therefore symmetric. For vector matrix $R$, it will only have $9$ non-zero entries, with each having probaility $1/9$. We now generate the transition matrix $M$ with codes."
   ]
  },
  {
   "cell_type": "code",
   "execution_count": 13,
   "id": "80497df10f8b5df5",
   "metadata": {
    "ExecuteTime": {
     "end_time": "2023-12-14T22:14:31.562327700Z",
     "start_time": "2023-12-14T22:14:31.546289800Z"
    },
    "collapsed": false,
    "jupyter": {
     "outputs_hidden": false
    }
   },
   "outputs": [],
   "source": [
    "import numpy as np\n",
    "\n",
    "def generate_state_transitions():\n",
    "    \"\"\"\n",
    "    Generate the state transitions for the Markov chain model of the game.\n",
    "    Each state is represented as an integer where the binary representation\n",
    "    corresponds to the cards' orientation (0 for down, 1 for up).\n",
    "    Ignore the absorbing state at this moment\n",
    "    \"\"\"\n",
    "    num_cards = 9\n",
    "    num_states = 2 ** num_cards  # Total number of states\n",
    "\n",
    "    # Initialize the transition matrix with zeros\n",
    "    transition_matrix = np.zeros((num_states, num_states))\n",
    "\n",
    "    for state in range(num_states):\n",
    "        # For each state, iterate through all cards and flip them\n",
    "        for card in range(num_cards):\n",
    "            # Calculate the new state after flipping the card\n",
    "            # state is automatically converted to binary\n",
    "            # 1 << card (shift) gives the binary form in exactly the card position\n",
    "            # ^ is the XOR operator, which flips the specific bit (card)\n",
    "            new_state = state ^ (1 << card)\n",
    "            transition_matrix[state, new_state] += 1 / num_cards\n",
    "    \n",
    "    # absorbing state\n",
    "    for state in range(num_states):\n",
    "        if state==num_states-1:\n",
    "            transition_matrix[num_states-1, state] = 1\n",
    "        else:\n",
    "            transition_matrix[num_states-1, state] = 0\n",
    "\n",
    "    return transition_matrix\n",
    "\n",
    "# Generate the state transition matrix\n",
    "transition_matrix = generate_state_transitions()"
   ]
  },
  {
   "cell_type": "code",
   "execution_count": 15,
   "id": "e065ad89d9448f88",
   "metadata": {
    "ExecuteTime": {
     "end_time": "2023-12-14T22:28:59.891499500Z",
     "start_time": "2023-12-14T22:28:59.848597Z"
    },
    "collapsed": false,
    "jupyter": {
     "outputs_hidden": false
    }
   },
   "outputs": [
    {
     "data": {
      "text/plain": [
       "array([[0.        , 0.11111111, 0.11111111, ..., 0.        , 0.        ,\n",
       "        0.        ],\n",
       "       [0.11111111, 0.        , 0.        , ..., 0.        , 0.        ,\n",
       "        0.        ],\n",
       "       [0.11111111, 0.        , 0.        , ..., 0.        , 0.        ,\n",
       "        0.        ],\n",
       "       ...,\n",
       "       [0.        , 0.        , 0.        , ..., 0.        , 0.        ,\n",
       "        0.11111111],\n",
       "       [0.        , 0.        , 0.        , ..., 0.        , 0.        ,\n",
       "        0.11111111],\n",
       "       [0.        , 0.        , 0.        , ..., 0.        , 0.        ,\n",
       "        1.        ]])"
      ]
     },
     "execution_count": 15,
     "metadata": {},
     "output_type": "execute_result"
    }
   ],
   "source": [
    "transition_matrix"
   ]
  },
  {
   "cell_type": "markdown",
   "id": "26279e2bb7545573",
   "metadata": {
    "collapsed": false,
    "jupyter": {
     "outputs_hidden": false
    }
   },
   "source": [
    "(b) Let $I_n$ be the identity matrix with the same dimension as $Q$. The matrix $F = (I_n - Q)^{-1}$ called the fundamental matrix of this Markov Chain. Following the previous step, compute the matrix $F$."
   ]
  },
  {
   "cell_type": "code",
   "execution_count": 17,
   "id": "41d77cebaabe82",
   "metadata": {
    "ExecuteTime": {
     "end_time": "2023-12-14T22:30:01.313639500Z",
     "start_time": "2023-12-14T22:30:01.174630100Z"
    },
    "collapsed": false,
    "jupyter": {
     "outputs_hidden": false
    }
   },
   "outputs": [],
   "source": [
    "from numpy.linalg import inv\n",
    "\n",
    "Q = transition_matrix[:-1, :-1]\n",
    "R = transition_matrix[-1, :]\n",
    "\n",
    "# Identity matrix of the same dimension as Q\n",
    "I_n = np.identity(Q.shape[0])\n",
    "\n",
    "# Compute the fundamental matrix F\n",
    "F = inv(I_n - Q)"
   ]
  },
  {
   "cell_type": "code",
   "execution_count": 18,
   "id": "5fe85a7197316c76",
   "metadata": {
    "ExecuteTime": {
     "end_time": "2023-12-14T22:30:02.726588800Z",
     "start_time": "2023-12-14T22:30:02.684350700Z"
    },
    "collapsed": false,
    "jupyter": {
     "outputs_hidden": false
    }
   },
   "outputs": [
    {
     "data": {
      "text/plain": [
       "array([[2.37142857, 1.37142857, 1.37142857, ..., 1.125     , 1.        ,\n",
       "        1.        ],\n",
       "       [1.37142857, 2.36752232, 1.24691685, ..., 1.12060547, 1.00048828,\n",
       "        0.99609375],\n",
       "       [1.37142857, 1.24691685, 2.36752232, ..., 1.12060547, 0.99609375,\n",
       "        1.00048828],\n",
       "       ...,\n",
       "       [1.125     , 1.12060547, 1.12060547, ..., 2.24121094, 1.12060547,\n",
       "        1.12060547],\n",
       "       [1.        , 1.00048828, 0.99609375, ..., 1.12060547, 1.99609375,\n",
       "        0.87548828],\n",
       "       [1.        , 0.99609375, 1.00048828, ..., 1.12060547, 0.87548828,\n",
       "        1.99609375]])"
      ]
     },
     "execution_count": 18,
     "metadata": {},
     "output_type": "execute_result"
    }
   ],
   "source": [
    "F"
   ]
  },
  {
   "cell_type": "markdown",
   "id": "59fbb5a702d40c36",
   "metadata": {
    "collapsed": false,
    "jupyter": {
     "outputs_hidden": false
    }
   },
   "source": [
    "(c) The expected number of steps to reach the absorbing state from transient state $i$ (indexed by the order in your matrix) is exactly the $i$-th entry of the vector\n",
    "$$F \\cdot \\mathbb{1}$$\n",
    "where $\\mathbb{1}$ is the constant vector with entry $1$ of the appropriate dimension. What is the expected number of days it will take for Enyan to win the ``Thousand Feather Sapphire Phoenix\"?"
   ]
  },
  {
   "cell_type": "code",
   "execution_count": 19,
   "id": "5af219b78943a2e0",
   "metadata": {
    "ExecuteTime": {
     "end_time": "2023-12-14T22:40:11.471692400Z",
     "start_time": "2023-12-14T22:40:11.403987200Z"
    },
    "collapsed": false,
    "jupyter": {
     "outputs_hidden": false
    }
   },
   "outputs": [],
   "source": [
    "ones_vector = np.ones(Q.shape[0])\n",
    "\n",
    "# Compute the expected number of steps to reach the absorbing state\n",
    "expected_steps = F.dot(ones_vector)"
   ]
  },
  {
   "cell_type": "code",
   "execution_count": 21,
   "id": "cacbec8e6813380f",
   "metadata": {
    "ExecuteTime": {
     "end_time": "2023-12-14T22:41:25.539998200Z",
     "start_time": "2023-12-14T22:41:25.522056800Z"
    },
    "collapsed": false,
    "jupyter": {
     "outputs_hidden": false
    }
   },
   "outputs": [
    {
     "name": "stdout",
     "output_type": "stream",
     "text": [
      "Expected number of days for Eyan to win the game is:\n"
     ]
    },
    {
     "data": {
      "text/plain": [
       "607.0857142857209"
      ]
     },
     "execution_count": 21,
     "metadata": {},
     "output_type": "execute_result"
    }
   ],
   "source": [
    "print('Expected number of days for Eyan to win the game is:')\n",
    "expected_steps[0]"
   ]
  },
  {
   "cell_type": "markdown",
   "id": "708608c63ffc7985",
   "metadata": {
    "collapsed": false,
    "jupyter": {
     "outputs_hidden": false
    }
   },
   "source": [
    "(d) Suppose now **Clash of Probability** replaces $9$ cards with $100$ cards, what is the expected number now?"
   ]
  },
  {
   "cell_type": "code",
   "execution_count": 22,
   "id": "a91a06342c6d5a3c",
   "metadata": {
    "ExecuteTime": {
     "end_time": "2023-12-14T22:44:23.150724300Z",
     "start_time": "2023-12-14T22:44:23.059686200Z"
    },
    "collapsed": false,
    "jupyter": {
     "outputs_hidden": false
    }
   },
   "outputs": [],
   "source": [
    "def calculate_expected_days(num_cards):\n",
    "    \"\"\"\n",
    "    Generate the state transitions for the Markov chain model of the game.\n",
    "    Each state is represented as an integer where the binary representation\n",
    "    corresponds to the cards' orientation (0 for down, 1 for up).\n",
    "    Ignore the absorbing state at this moment\n",
    "    \"\"\"\n",
    "    num_states = 2 ** num_cards  # Total number of states\n",
    "\n",
    "    # Initialize the transition matrix with zeros\n",
    "    transition_matrix = np.zeros((num_states, num_states))\n",
    "\n",
    "    for state in range(num_states):\n",
    "        # For each state, iterate through all cards and flip them\n",
    "        for card in range(num_cards):\n",
    "            # Calculate the new state after flipping the card\n",
    "            # state is automatically converted to binary\n",
    "            # 1 << card (shift) gives the binary form in exactly the card position\n",
    "            # ^ is the XOR operator, which flips the specific bit (card)\n",
    "            new_state = state ^ (1 << card)\n",
    "            transition_matrix[state, new_state] += 1 / num_cards\n",
    "    \n",
    "    # absorbing state\n",
    "    for state in range(num_states):\n",
    "        if state==num_states-1:\n",
    "            transition_matrix[num_states-1, state] = 1\n",
    "        else:\n",
    "            transition_matrix[num_states-1, state] = 0\n",
    "            \n",
    "    Q = transition_matrix[:-1, :-1]\n",
    "    R = transition_matrix[-1, :]\n",
    "    \n",
    "    # Identity matrix of the same dimension as Q\n",
    "    I_n = np.identity(Q.shape[0])\n",
    "    \n",
    "    # Compute the fundamental matrix F\n",
    "    F = inv(I_n - Q)\n",
    "    ones_vector = np.ones(Q.shape[0])\n",
    "\n",
    "    # Compute the expected number of steps to reach the absorbing state\n",
    "    expected_steps = F.dot(ones_vector)\n",
    "        \n",
    "    print(f'Expected number of days for Eyan to win the game with {num_cards} cards is {expected_steps[0]}:')\n",
    "    \n",
    "    return expected_steps"
   ]
  },
  {
   "cell_type": "code",
   "execution_count": 24,
   "id": "dda2748320922057",
   "metadata": {
    "ExecuteTime": {
     "end_time": "2023-12-14T22:45:33.490773500Z",
     "start_time": "2023-12-14T22:45:33.449893Z"
    },
    "collapsed": false,
    "jupyter": {
     "outputs_hidden": false
    }
   },
   "outputs": [],
   "source": [
    "# MAXIMUM dimension of matrix exceeds\n",
    "# answer = calculate_expected_days(100)"
   ]
  }
 ],
 "metadata": {
  "kernelspec": {
   "display_name": "Python 3 (ipykernel)",
   "language": "python",
   "name": "python3"
  },
  "language_info": {
   "codemirror_mode": {
    "name": "ipython",
    "version": 3
   },
   "file_extension": ".py",
   "mimetype": "text/x-python",
   "name": "python",
   "nbconvert_exporter": "python",
   "pygments_lexer": "ipython3",
   "version": "3.11.4"
  }
 },
 "nbformat": 4,
 "nbformat_minor": 5
}
