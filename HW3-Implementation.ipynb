{
 "cells": [
  {
   "cell_type": "markdown",
   "id": "f1149b427c8647e1",
   "metadata": {
    "collapsed": false,
    "jupyter": {
     "outputs_hidden": false
    }
   },
   "source": [
    "# Homework 3 Problem 6\n",
    "\n",
    "Our dataset contains emails with labels of spam or ham. You‘ll use a “naive Bayes” classifier to identify spam emails. \n",
    "\n",
    "## Read Data"
   ]
  },
  {
   "cell_type": "code",
   "execution_count": 1,
   "id": "fc75f97bda69d154",
   "metadata": {
    "ExecuteTime": {
     "end_time": "2023-10-05T06:33:45.678076700Z",
     "start_time": "2023-10-05T06:33:43.732550900Z"
    },
    "collapsed": false,
    "jupyter": {
     "outputs_hidden": false
    }
   },
   "outputs": [],
   "source": [
    "import csv\n",
    "import numpy as np\n",
    "import pandas as pd\n",
    "from sklearn.metrics import accuracy_score"
   ]
  },
  {
   "cell_type": "code",
   "execution_count": 2,
   "id": "d16c23208329f80f",
   "metadata": {
    "ExecuteTime": {
     "end_time": "2023-10-05T06:34:43.190764700Z",
     "start_time": "2023-10-05T06:33:45.684225100Z"
    },
    "collapsed": false,
    "jupyter": {
     "outputs_hidden": false
    }
   },
   "outputs": [
    {
     "data": {
      "text/html": [
       "<div>\n",
       "<style scoped>\n",
       "    .dataframe tbody tr th:only-of-type {\n",
       "        vertical-align: middle;\n",
       "    }\n",
       "\n",
       "    .dataframe tbody tr th {\n",
       "        vertical-align: top;\n",
       "    }\n",
       "\n",
       "    .dataframe thead th {\n",
       "        text-align: right;\n",
       "    }\n",
       "</style>\n",
       "<table border=\"1\" class=\"dataframe\">\n",
       "  <thead>\n",
       "    <tr style=\"text-align: right;\">\n",
       "      <th></th>\n",
       "      <th>0</th>\n",
       "      <th>1</th>\n",
       "      <th>2</th>\n",
       "      <th>3</th>\n",
       "      <th>4</th>\n",
       "      <th>5</th>\n",
       "      <th>6</th>\n",
       "      <th>7</th>\n",
       "      <th>8</th>\n",
       "      <th>9</th>\n",
       "      <th>...</th>\n",
       "      <th>12665</th>\n",
       "      <th>12666</th>\n",
       "      <th>12667</th>\n",
       "      <th>12668</th>\n",
       "      <th>12669</th>\n",
       "      <th>12670</th>\n",
       "      <th>12671</th>\n",
       "      <th>12672</th>\n",
       "      <th>12673</th>\n",
       "      <th>12674</th>\n",
       "    </tr>\n",
       "  </thead>\n",
       "  <tbody>\n",
       "    <tr>\n",
       "      <th>0</th>\n",
       "      <td>0</td>\n",
       "      <td>0</td>\n",
       "      <td>0</td>\n",
       "      <td>1</td>\n",
       "      <td>0</td>\n",
       "      <td>1</td>\n",
       "      <td>0</td>\n",
       "      <td>0</td>\n",
       "      <td>0</td>\n",
       "      <td>0</td>\n",
       "      <td>...</td>\n",
       "      <td>0</td>\n",
       "      <td>0</td>\n",
       "      <td>0</td>\n",
       "      <td>0</td>\n",
       "      <td>0</td>\n",
       "      <td>0</td>\n",
       "      <td>0</td>\n",
       "      <td>0</td>\n",
       "      <td>0</td>\n",
       "      <td>0</td>\n",
       "    </tr>\n",
       "    <tr>\n",
       "      <th>1</th>\n",
       "      <td>0</td>\n",
       "      <td>1</td>\n",
       "      <td>0</td>\n",
       "      <td>1</td>\n",
       "      <td>0</td>\n",
       "      <td>1</td>\n",
       "      <td>0</td>\n",
       "      <td>0</td>\n",
       "      <td>0</td>\n",
       "      <td>0</td>\n",
       "      <td>...</td>\n",
       "      <td>0</td>\n",
       "      <td>0</td>\n",
       "      <td>0</td>\n",
       "      <td>0</td>\n",
       "      <td>0</td>\n",
       "      <td>0</td>\n",
       "      <td>0</td>\n",
       "      <td>0</td>\n",
       "      <td>0</td>\n",
       "      <td>0</td>\n",
       "    </tr>\n",
       "    <tr>\n",
       "      <th>2</th>\n",
       "      <td>0</td>\n",
       "      <td>0</td>\n",
       "      <td>0</td>\n",
       "      <td>1</td>\n",
       "      <td>0</td>\n",
       "      <td>0</td>\n",
       "      <td>0</td>\n",
       "      <td>0</td>\n",
       "      <td>0</td>\n",
       "      <td>0</td>\n",
       "      <td>...</td>\n",
       "      <td>0</td>\n",
       "      <td>0</td>\n",
       "      <td>0</td>\n",
       "      <td>0</td>\n",
       "      <td>0</td>\n",
       "      <td>0</td>\n",
       "      <td>0</td>\n",
       "      <td>0</td>\n",
       "      <td>0</td>\n",
       "      <td>0</td>\n",
       "    </tr>\n",
       "    <tr>\n",
       "      <th>3</th>\n",
       "      <td>0</td>\n",
       "      <td>0</td>\n",
       "      <td>0</td>\n",
       "      <td>1</td>\n",
       "      <td>0</td>\n",
       "      <td>1</td>\n",
       "      <td>0</td>\n",
       "      <td>0</td>\n",
       "      <td>0</td>\n",
       "      <td>1</td>\n",
       "      <td>...</td>\n",
       "      <td>0</td>\n",
       "      <td>0</td>\n",
       "      <td>0</td>\n",
       "      <td>0</td>\n",
       "      <td>0</td>\n",
       "      <td>0</td>\n",
       "      <td>0</td>\n",
       "      <td>0</td>\n",
       "      <td>0</td>\n",
       "      <td>0</td>\n",
       "    </tr>\n",
       "    <tr>\n",
       "      <th>4</th>\n",
       "      <td>0</td>\n",
       "      <td>1</td>\n",
       "      <td>0</td>\n",
       "      <td>1</td>\n",
       "      <td>0</td>\n",
       "      <td>0</td>\n",
       "      <td>0</td>\n",
       "      <td>0</td>\n",
       "      <td>0</td>\n",
       "      <td>1</td>\n",
       "      <td>...</td>\n",
       "      <td>0</td>\n",
       "      <td>0</td>\n",
       "      <td>0</td>\n",
       "      <td>0</td>\n",
       "      <td>0</td>\n",
       "      <td>0</td>\n",
       "      <td>0</td>\n",
       "      <td>0</td>\n",
       "      <td>0</td>\n",
       "      <td>0</td>\n",
       "    </tr>\n",
       "  </tbody>\n",
       "</table>\n",
       "<p>5 rows × 12675 columns</p>\n",
       "</div>"
      ],
      "text/plain": [
       "   0      1      2      3      4      5      6      7      8      9      ...  \\\n",
       "0      0      0      0      1      0      1      0      0      0      0  ...   \n",
       "1      0      1      0      1      0      1      0      0      0      0  ...   \n",
       "2      0      0      0      1      0      0      0      0      0      0  ...   \n",
       "3      0      0      0      1      0      1      0      0      0      1  ...   \n",
       "4      0      1      0      1      0      0      0      0      0      1  ...   \n",
       "\n",
       "   12665  12666  12667  12668  12669  12670  12671  12672  12673  12674  \n",
       "0      0      0      0      0      0      0      0      0      0      0  \n",
       "1      0      0      0      0      0      0      0      0      0      0  \n",
       "2      0      0      0      0      0      0      0      0      0      0  \n",
       "3      0      0      0      0      0      0      0      0      0      0  \n",
       "4      0      0      0      0      0      0      0      0      0      0  \n",
       "\n",
       "[5 rows x 12675 columns]"
      ]
     },
     "metadata": {},
     "output_type": "display_data"
    },
    {
     "data": {
      "text/html": [
       "<div>\n",
       "<style scoped>\n",
       "    .dataframe tbody tr th:only-of-type {\n",
       "        vertical-align: middle;\n",
       "    }\n",
       "\n",
       "    .dataframe tbody tr th {\n",
       "        vertical-align: top;\n",
       "    }\n",
       "\n",
       "    .dataframe thead th {\n",
       "        text-align: right;\n",
       "    }\n",
       "</style>\n",
       "<table border=\"1\" class=\"dataframe\">\n",
       "  <thead>\n",
       "    <tr style=\"text-align: right;\">\n",
       "      <th></th>\n",
       "      <th>label</th>\n",
       "    </tr>\n",
       "  </thead>\n",
       "  <tbody>\n",
       "    <tr>\n",
       "      <th>0</th>\n",
       "      <td>0</td>\n",
       "    </tr>\n",
       "    <tr>\n",
       "      <th>1</th>\n",
       "      <td>0</td>\n",
       "    </tr>\n",
       "    <tr>\n",
       "      <th>2</th>\n",
       "      <td>0</td>\n",
       "    </tr>\n",
       "    <tr>\n",
       "      <th>3</th>\n",
       "      <td>0</td>\n",
       "    </tr>\n",
       "    <tr>\n",
       "      <th>4</th>\n",
       "      <td>0</td>\n",
       "    </tr>\n",
       "  </tbody>\n",
       "</table>\n",
       "</div>"
      ],
      "text/plain": [
       "   label\n",
       "0      0\n",
       "1      0\n",
       "2      0\n",
       "3      0\n",
       "4      0"
      ]
     },
     "metadata": {},
     "output_type": "display_data"
    }
   ],
   "source": [
    "# Read Data\n",
    "\n",
    "#  The training data matrix trainFeat is a D×W matrix, \n",
    "#  where each row represents an email and each column \n",
    "#  indicates whether that word appears in that email at least once.\n",
    "trainFeat = pd.read_csv('./hw3_data/trainFeat.csv', header=None)\n",
    "testFeat = pd.read_csv('./hw3_data/testFeat.csv', header=None)\n",
    "#  The ground truth labels are stored in trainLabels, \n",
    "#  with “1” indicating spam and “0” ham.\n",
    "trainLabels = pd.read_csv('./hw3_data/trainLabels.csv', header=None, names=['label'])\n",
    "testLabels = pd.read_csv('./hw3_data/testLabels.csv', header=None, names=['label'])\n",
    "\n",
    "display(trainFeat.head(), trainLabels.head())"
   ]
  },
  {
   "cell_type": "code",
   "execution_count": 3,
   "id": "f6cb2b1d7278efb2",
   "metadata": {
    "ExecuteTime": {
     "end_time": "2023-10-05T06:34:43.198901100Z",
     "start_time": "2023-10-05T06:34:43.184632500Z"
    },
    "collapsed": false,
    "jupyter": {
     "outputs_hidden": false
    }
   },
   "outputs": [],
   "source": [
    "# \"\"\"\n",
    "# Important preprocessing note:\n",
    "# There is formatting error & processing error, I am manually adjusting them.\n",
    "# I removed \",\" from line 22 in vocab.csv, and later added it back after reading the file.\n",
    "# In line 8553, null is taken as None, and I am also fill it back\n",
    "# \"\"\"\n",
    "# The vocabulary vocab consists of W words, where each\n",
    "# character string has been mapped to a distinct integer index.\n",
    "# vocab_data = pd.read_csv('./hw3_data/vocab_revised.csv', quoting=csv.QUOTE_NONE, \n",
    "#                          index_col=False, header=None, names=['text', 'drop'])\n",
    "# vocab_data = vocab_data['text']\n",
    "# vocab_data.index = vocab_data.index + 1 # Start Index from 1\n",
    "# vocab_data.loc[22] = ','\n",
    "# vocab_data.loc[8553] = 'null'\n",
    "# \n",
    "# display(vocab_data)"
   ]
  },
  {
   "cell_type": "code",
   "execution_count": 4,
   "id": "917ddfa63a7684a0",
   "metadata": {
    "ExecuteTime": {
     "end_time": "2023-10-05T06:34:43.209888900Z",
     "start_time": "2023-10-05T06:34:43.198901100Z"
    },
    "collapsed": false,
    "jupyter": {
     "outputs_hidden": false
    }
   },
   "outputs": [
    {
     "data": {
      "text/html": [
       "<div>\n",
       "<style scoped>\n",
       "    .dataframe tbody tr th:only-of-type {\n",
       "        vertical-align: middle;\n",
       "    }\n",
       "\n",
       "    .dataframe tbody tr th {\n",
       "        vertical-align: top;\n",
       "    }\n",
       "\n",
       "    .dataframe thead th {\n",
       "        text-align: right;\n",
       "    }\n",
       "</style>\n",
       "<table border=\"1\" class=\"dataframe\">\n",
       "  <thead>\n",
       "    <tr style=\"text-align: right;\">\n",
       "      <th></th>\n",
       "      <th>text</th>\n",
       "    </tr>\n",
       "  </thead>\n",
       "  <tbody>\n",
       "    <tr>\n",
       "      <th>0</th>\n",
       "      <td>_</td>\n",
       "    </tr>\n",
       "    <tr>\n",
       "      <th>1</th>\n",
       "      <td>not</td>\n",
       "    </tr>\n",
       "    <tr>\n",
       "      <th>2</th>\n",
       "      <td>interested</td>\n",
       "    </tr>\n",
       "    <tr>\n",
       "      <th>3</th>\n",
       "      <td>.</td>\n",
       "    </tr>\n",
       "    <tr>\n",
       "      <th>4</th>\n",
       "      <td>prices</td>\n",
       "    </tr>\n",
       "    <tr>\n",
       "      <th>...</th>\n",
       "      <td>...</td>\n",
       "    </tr>\n",
       "    <tr>\n",
       "      <th>12670</th>\n",
       "      <td>epe</td>\n",
       "    </tr>\n",
       "    <tr>\n",
       "      <th>12671</th>\n",
       "      <td>jgs</td>\n",
       "    </tr>\n",
       "    <tr>\n",
       "      <th>12672</th>\n",
       "      <td>formalize</td>\n",
       "    </tr>\n",
       "    <tr>\n",
       "      <th>12673</th>\n",
       "      <td>liquefied</td>\n",
       "    </tr>\n",
       "    <tr>\n",
       "      <th>12674</th>\n",
       "      <td>hbs</td>\n",
       "    </tr>\n",
       "  </tbody>\n",
       "</table>\n",
       "<p>12675 rows × 1 columns</p>\n",
       "</div>"
      ],
      "text/plain": [
       "             text\n",
       "0               _\n",
       "1             not\n",
       "2      interested\n",
       "3               .\n",
       "4          prices\n",
       "...           ...\n",
       "12670         epe\n",
       "12671         jgs\n",
       "12672   formalize\n",
       "12673   liquefied\n",
       "12674         hbs\n",
       "\n",
       "[12675 rows x 1 columns]"
      ]
     },
     "metadata": {},
     "output_type": "display_data"
    }
   ],
   "source": [
    "# The vocabulary vocab consists of W words, where each\n",
    "# character string has been mapped to a distinct integer index.\n",
    "with open('./hw3_data/vocab.csv', 'r') as f:\n",
    "    lines = f.readlines()\n",
    "# remove seperator\n",
    "vocab = pd.DataFrame([line.strip()[:-1] for line in lines], columns=['text'])\n",
    "\n",
    "display(vocab)"
   ]
  },
  {
   "cell_type": "markdown",
   "id": "f15f51b511af8272",
   "metadata": {
    "collapsed": false,
    "jupyter": {
     "outputs_hidden": false
    }
   },
   "source": [
    "To define a probabilistic model of this data, we let $Y_i = S$ if email $i$ is spam and $Y_i = H$ if email $i$ is ham (not spam). We assume that the two classes are equally likely a priori:\n",
    "$$P(Y_i = S = 1) = P(Y_i = H = 0) = 0.5.$$\n",
    "\n",
    "To encode the data that will be used for classification, we let $X_{ij} = 1$ if email i contains an instance of word j, and $X_{ij} = 0$ if email i does not contain the word j. The set of all available data about email i is then $X_i = \\{X_{ij}\\ |\\ j \\in 1,...,W\\}$.\n",
    "\n",
    "To implement a simple Bayesian classifier, we will compute the posterior distribution $P(Y_i\\ |\\ X_i)$ of the class label given the observed features. If $P(Y_i = S\\ |\\ X_i) > P(Y_i = H \\ |\\  X_i)$, we classify email $i$ as spam; otherwise, we classify it as ham."
   ]
  },
  {
   "cell_type": "code",
   "execution_count": 5,
   "id": "ab08f2719173c0c9",
   "metadata": {
    "ExecuteTime": {
     "end_time": "2023-10-05T06:34:43.232157400Z",
     "start_time": "2023-10-05T06:34:43.215373400Z"
    },
    "collapsed": false,
    "jupyter": {
     "outputs_hidden": false
    }
   },
   "outputs": [
    {
     "name": "stdout",
     "output_type": "stream",
     "text": [
      "(20229, 12675)\n"
     ]
    }
   ],
   "source": [
    "# In training data, W=12675, D=20229\n",
    "print(trainFeat.shape)"
   ]
  },
  {
   "cell_type": "markdown",
   "id": "832a26b35866bd06",
   "metadata": {
    "collapsed": false,
    "jupyter": {
     "outputs_hidden": false
    }
   },
   "source": [
    "(a) Either prove or disprove the following statement: the Bayesian classifier described above is equivalent to a classifier that assigns label spam if $P(X_i\\ |\\ Y_i = S)> \\ P(X_i \\ | \\ Y_i = H)$, and label ham otherwise.  Base your reasoning on $P(Y_i = S) = P(Y_i = H) = 0.5$ and Bayes' rule."
   ]
  },
  {
   "cell_type": "markdown",
   "id": "4fa5b29330471359",
   "metadata": {
    "collapsed": false,
    "jupyter": {
     "outputs_hidden": false
    }
   },
   "source": [
    "**Answer:** We prove the statement above.\n",
    "\n",
    "Since the classifier predicts spam if $P(Y_i = S\\ |\\ X_i) > P(Y_i = H \\ |\\  X_i)$, by Bayes's rule\n",
    "\n",
    "$$P(Y_i = S\\ |\\ X_i) = \\frac{P(Y_i = S\\ \\cap \\ X_i)}{P(X_i)} = \\frac{P(X_i\\ |\\ Y_i = S)*P(Y_i = S)}{P(X_i)},$$\n",
    "$$P(Y_i = H\\ |\\ X_i) = \\frac{P(Y_i = H\\ \\cap \\ X_i)}{P(X_i)} = \\frac{P(X_i\\ |\\ Y_i = H)*P(Y_i = H)}{P(X_i)}.$$\n",
    "\n",
    "Therefore, the statement becomes $P(X_i\\ |\\ Y_i = S)*P(Y_i = S) > P(X_i\\ |\\ Y_i = H)*P(Y_i = H)$. Since $P(Y_i = S) = P(Y_i = H) = 0.5$, it is equivalent to a classifier that assigns label spam if $P(X_i\\ |\\ Y_i = S)> \\ P(X_i \\ | \\ Y_i = H)$"
   ]
  },
  {
   "cell_type": "markdown",
   "id": "818d95a14a581fad",
   "metadata": {
    "collapsed": false,
    "jupyter": {
     "outputs_hidden": false
    }
   },
   "source": [
    "To further simplify the modeling problem, a naive Bayes classifier assumes that given the class label, the observed word features are conditionally independent. From the definition of independence, this implies that\n",
    "$$P(X_{i,\\bullet} \\ | \\ Y_i = S) = \\prod_{j=1}^{W} P(X_{ij} \\ | \\ Y_i = S),  \\ \\ \\ \\ \\ \\ P(X_{i,\\bullet} \\ | \\ Y_i = H) = \\prod_{j=1}^{W} P(X_{ij} \\ | \\ Y_i = H).$$\n",
    "\n",
    "(b) A simple way to estimate the probabilities above is by counting how many times each event occurs in the training data. Let $N_s$ be the total number of spam emails, $N_{sj}$ the number of spam emails in which word $j$ occurs, $N_h$ the total number of ham emails, and $N_{hj}$ the number of ham emails in which word $j$ occurs. we then set $$P(X_{ij}=1\\ | \\ Y_i = S) = \\frac{N_{sj}}{N_s}, \\ \\ \\ P(X_{ij} = 0 \\ | \\ Y_i = S) = 1 - P(X_{ij} = 1 \\ Y_i = S) = \\frac{N_s - N_{sj}}{N_s}$$ $$P(X_{ij}=1\\ | \\ Y_i = H) = \\frac{N_{hj}}{N_h}, \\ \\ \\ P(X_{ij} = 0 \\ | \\ Y_i = H) = 1 - P(X_{ij} = 1 \\ Y_i = H) = \\frac{N_h - N_{hj}}{N_h}$$\n",
    "Write a program to compute these probabilities using data in trainFeat, trainLabels.\n",
    "(Note: $P(X_{ij}=1$ means email $i$ contains word $j$.)"
   ]
  },
  {
   "cell_type": "code",
   "execution_count": 6,
   "id": "c2ca09a0a2c8f3c3",
   "metadata": {
    "ExecuteTime": {
     "end_time": "2023-10-05T06:34:44.732392900Z",
     "start_time": "2023-10-05T06:34:43.218454300Z"
    },
    "collapsed": false,
    "jupyter": {
     "outputs_hidden": false
    }
   },
   "outputs": [
    {
     "name": "stdout",
     "output_type": "stream",
     "text": [
      "N_s:\n",
      " 10302 \n",
      "N_sj:\n",
      " 0        1128\n",
      "1        3643\n",
      "2         665\n",
      "3        9278\n",
      "4        1061\n",
      "         ... \n",
      "12670       1\n",
      "12671       1\n",
      "12672       1\n",
      "12673       1\n",
      "12674       1\n",
      "Length: 12675, dtype: int64 \n",
      "N_h:\n",
      " 9927 \n",
      "N_hj:\n",
      " 0         743\n",
      "1        3265\n",
      "2         509\n",
      "3        9692\n",
      "4         457\n",
      "         ... \n",
      "12670      24\n",
      "12671      15\n",
      "12672      10\n",
      "12673      12\n",
      "12674      11\n",
      "Length: 12675, dtype: int64\n"
     ]
    }
   ],
   "source": [
    "# number of spam email\n",
    "N_s = trainLabels[trainLabels['label']==1].shape[0]\n",
    "# number of spam email in which word j occurs\n",
    "N_sj = trainFeat[trainLabels['label']==1].sum(axis=0)\n",
    "# number of ham emails\n",
    "N_h = trainLabels[trainLabels['label']==0].shape[0]\n",
    "# number of ham email in which word j occurs\n",
    "N_hj = trainFeat[trainLabels['label']==0].sum(axis=0)\n",
    "print('N_s:\\n', N_s, '\\nN_sj:\\n', N_sj, '\\nN_h:\\n', N_h, '\\nN_hj:\\n', N_hj)\n"
   ]
  },
  {
   "cell_type": "code",
   "execution_count": 7,
   "id": "2ab83c0f13d615dc",
   "metadata": {
    "ExecuteTime": {
     "end_time": "2023-10-05T06:34:44.748549300Z",
     "start_time": "2023-10-05T06:34:44.737116Z"
    },
    "collapsed": false,
    "jupyter": {
     "outputs_hidden": false
    }
   },
   "outputs": [
    {
     "data": {
      "text/html": [
       "<div>\n",
       "<style scoped>\n",
       "    .dataframe tbody tr th:only-of-type {\n",
       "        vertical-align: middle;\n",
       "    }\n",
       "\n",
       "    .dataframe tbody tr th {\n",
       "        vertical-align: top;\n",
       "    }\n",
       "\n",
       "    .dataframe thead th {\n",
       "        text-align: right;\n",
       "    }\n",
       "</style>\n",
       "<table border=\"1\" class=\"dataframe\">\n",
       "  <thead>\n",
       "    <tr style=\"text-align: right;\">\n",
       "      <th></th>\n",
       "      <th>p_ij_eq1_spam</th>\n",
       "      <th>p_ij_eq0_spam</th>\n",
       "      <th>p_ij_eq1_ham</th>\n",
       "      <th>p_ij_eq0_ham</th>\n",
       "    </tr>\n",
       "  </thead>\n",
       "  <tbody>\n",
       "    <tr>\n",
       "      <th>0</th>\n",
       "      <td>0.109493</td>\n",
       "      <td>0.890507</td>\n",
       "      <td>0.074846</td>\n",
       "      <td>0.925154</td>\n",
       "    </tr>\n",
       "    <tr>\n",
       "      <th>1</th>\n",
       "      <td>0.353621</td>\n",
       "      <td>0.646379</td>\n",
       "      <td>0.328901</td>\n",
       "      <td>0.671099</td>\n",
       "    </tr>\n",
       "    <tr>\n",
       "      <th>2</th>\n",
       "      <td>0.064551</td>\n",
       "      <td>0.935449</td>\n",
       "      <td>0.051274</td>\n",
       "      <td>0.948726</td>\n",
       "    </tr>\n",
       "    <tr>\n",
       "      <th>3</th>\n",
       "      <td>0.900602</td>\n",
       "      <td>0.099398</td>\n",
       "      <td>0.976327</td>\n",
       "      <td>0.023673</td>\n",
       "    </tr>\n",
       "    <tr>\n",
       "      <th>4</th>\n",
       "      <td>0.102990</td>\n",
       "      <td>0.897010</td>\n",
       "      <td>0.046036</td>\n",
       "      <td>0.953964</td>\n",
       "    </tr>\n",
       "    <tr>\n",
       "      <th>...</th>\n",
       "      <td>...</td>\n",
       "      <td>...</td>\n",
       "      <td>...</td>\n",
       "      <td>...</td>\n",
       "    </tr>\n",
       "    <tr>\n",
       "      <th>12670</th>\n",
       "      <td>0.000097</td>\n",
       "      <td>0.999903</td>\n",
       "      <td>0.002418</td>\n",
       "      <td>0.997582</td>\n",
       "    </tr>\n",
       "    <tr>\n",
       "      <th>12671</th>\n",
       "      <td>0.000097</td>\n",
       "      <td>0.999903</td>\n",
       "      <td>0.001511</td>\n",
       "      <td>0.998489</td>\n",
       "    </tr>\n",
       "    <tr>\n",
       "      <th>12672</th>\n",
       "      <td>0.000097</td>\n",
       "      <td>0.999903</td>\n",
       "      <td>0.001007</td>\n",
       "      <td>0.998993</td>\n",
       "    </tr>\n",
       "    <tr>\n",
       "      <th>12673</th>\n",
       "      <td>0.000097</td>\n",
       "      <td>0.999903</td>\n",
       "      <td>0.001209</td>\n",
       "      <td>0.998791</td>\n",
       "    </tr>\n",
       "    <tr>\n",
       "      <th>12674</th>\n",
       "      <td>0.000097</td>\n",
       "      <td>0.999903</td>\n",
       "      <td>0.001108</td>\n",
       "      <td>0.998892</td>\n",
       "    </tr>\n",
       "  </tbody>\n",
       "</table>\n",
       "<p>12675 rows × 4 columns</p>\n",
       "</div>"
      ],
      "text/plain": [
       "       p_ij_eq1_spam  p_ij_eq0_spam  p_ij_eq1_ham  p_ij_eq0_ham\n",
       "0           0.109493       0.890507      0.074846      0.925154\n",
       "1           0.353621       0.646379      0.328901      0.671099\n",
       "2           0.064551       0.935449      0.051274      0.948726\n",
       "3           0.900602       0.099398      0.976327      0.023673\n",
       "4           0.102990       0.897010      0.046036      0.953964\n",
       "...              ...            ...           ...           ...\n",
       "12670       0.000097       0.999903      0.002418      0.997582\n",
       "12671       0.000097       0.999903      0.001511      0.998489\n",
       "12672       0.000097       0.999903      0.001007      0.998993\n",
       "12673       0.000097       0.999903      0.001209      0.998791\n",
       "12674       0.000097       0.999903      0.001108      0.998892\n",
       "\n",
       "[12675 rows x 4 columns]"
      ]
     },
     "metadata": {},
     "output_type": "display_data"
    }
   ],
   "source": [
    "# If email i spam, the prob that it contains word j\n",
    "p_ij_eq1_spam = N_sj/N_s\n",
    "# If email i spam, the prob that it does not contain word j\n",
    "p_ij_eq0_spam = 1-p_ij_eq1_spam\n",
    "# If email i ham, the prob that it contains word j\n",
    "p_ij_eq1_ham = N_hj/N_h\n",
    "# If email i ham, the prob that it does not contain word j\n",
    "p_ij_eq0_ham = 1-p_ij_eq1_ham\n",
    "\n",
    "probability_j = pd.DataFrame({'p_ij_eq1_spam': p_ij_eq1_spam,\n",
    "                              'p_ij_eq0_spam': p_ij_eq0_spam,\n",
    "                              'p_ij_eq1_ham': p_ij_eq1_ham,\n",
    "                              'p_ij_eq0_ham': p_ij_eq0_ham,\n",
    "                              })\n",
    "display(probability_j)"
   ]
  },
  {
   "cell_type": "code",
   "execution_count": 8,
   "id": "27198a52112436f9",
   "metadata": {
    "ExecuteTime": {
     "end_time": "2023-10-05T06:34:44.880997800Z",
     "start_time": "2023-10-05T06:34:44.748739200Z"
    },
    "collapsed": false,
    "jupyter": {
     "outputs_hidden": false
    }
   },
   "outputs": [
    {
     "data": {
      "text/html": [
       "<div>\n",
       "<style scoped>\n",
       "    .dataframe tbody tr th:only-of-type {\n",
       "        vertical-align: middle;\n",
       "    }\n",
       "\n",
       "    .dataframe tbody tr th {\n",
       "        vertical-align: top;\n",
       "    }\n",
       "\n",
       "    .dataframe thead th {\n",
       "        text-align: right;\n",
       "    }\n",
       "</style>\n",
       "<table border=\"1\" class=\"dataframe\">\n",
       "  <thead>\n",
       "    <tr style=\"text-align: right;\">\n",
       "      <th></th>\n",
       "      <th>P(X_ij = 1 | Y_i = S)</th>\n",
       "      <th>P(X_ij = 0 | Y_i = S)</th>\n",
       "      <th>P(X_ij = 1 | Y_i = H)</th>\n",
       "      <th>P(X_ij = 0 | Y_i = H)</th>\n",
       "    </tr>\n",
       "  </thead>\n",
       "  <tbody>\n",
       "    <tr>\n",
       "      <th>1</th>\n",
       "      <td>0.109493</td>\n",
       "      <td>0.890507</td>\n",
       "      <td>0.074846</td>\n",
       "      <td>0.925154</td>\n",
       "    </tr>\n",
       "    <tr>\n",
       "      <th>2</th>\n",
       "      <td>0.353621</td>\n",
       "      <td>0.646379</td>\n",
       "      <td>0.328901</td>\n",
       "      <td>0.671099</td>\n",
       "    </tr>\n",
       "    <tr>\n",
       "      <th>3</th>\n",
       "      <td>0.064551</td>\n",
       "      <td>0.935449</td>\n",
       "      <td>0.051274</td>\n",
       "      <td>0.948726</td>\n",
       "    </tr>\n",
       "    <tr>\n",
       "      <th>4</th>\n",
       "      <td>0.900602</td>\n",
       "      <td>0.099398</td>\n",
       "      <td>0.976327</td>\n",
       "      <td>0.023673</td>\n",
       "    </tr>\n",
       "    <tr>\n",
       "      <th>5</th>\n",
       "      <td>0.102990</td>\n",
       "      <td>0.897010</td>\n",
       "      <td>0.046036</td>\n",
       "      <td>0.953964</td>\n",
       "    </tr>\n",
       "    <tr>\n",
       "      <th>...</th>\n",
       "      <td>...</td>\n",
       "      <td>...</td>\n",
       "      <td>...</td>\n",
       "      <td>...</td>\n",
       "    </tr>\n",
       "    <tr>\n",
       "      <th>12671</th>\n",
       "      <td>0.000097</td>\n",
       "      <td>0.999903</td>\n",
       "      <td>0.002418</td>\n",
       "      <td>0.997582</td>\n",
       "    </tr>\n",
       "    <tr>\n",
       "      <th>12672</th>\n",
       "      <td>0.000097</td>\n",
       "      <td>0.999903</td>\n",
       "      <td>0.001511</td>\n",
       "      <td>0.998489</td>\n",
       "    </tr>\n",
       "    <tr>\n",
       "      <th>12673</th>\n",
       "      <td>0.000097</td>\n",
       "      <td>0.999903</td>\n",
       "      <td>0.001007</td>\n",
       "      <td>0.998993</td>\n",
       "    </tr>\n",
       "    <tr>\n",
       "      <th>12674</th>\n",
       "      <td>0.000097</td>\n",
       "      <td>0.999903</td>\n",
       "      <td>0.001209</td>\n",
       "      <td>0.998791</td>\n",
       "    </tr>\n",
       "    <tr>\n",
       "      <th>12675</th>\n",
       "      <td>0.000097</td>\n",
       "      <td>0.999903</td>\n",
       "      <td>0.001108</td>\n",
       "      <td>0.998892</td>\n",
       "    </tr>\n",
       "  </tbody>\n",
       "</table>\n",
       "<p>12675 rows × 4 columns</p>\n",
       "</div>"
      ],
      "text/plain": [
       "       P(X_ij = 1 | Y_i = S)  P(X_ij = 0 | Y_i = S)  P(X_ij = 1 | Y_i = H)  \\\n",
       "1                   0.109493               0.890507               0.074846   \n",
       "2                   0.353621               0.646379               0.328901   \n",
       "3                   0.064551               0.935449               0.051274   \n",
       "4                   0.900602               0.099398               0.976327   \n",
       "5                   0.102990               0.897010               0.046036   \n",
       "...                      ...                    ...                    ...   \n",
       "12671               0.000097               0.999903               0.002418   \n",
       "12672               0.000097               0.999903               0.001511   \n",
       "12673               0.000097               0.999903               0.001007   \n",
       "12674               0.000097               0.999903               0.001209   \n",
       "12675               0.000097               0.999903               0.001108   \n",
       "\n",
       "       P(X_ij = 0 | Y_i = H)  \n",
       "1                   0.925154  \n",
       "2                   0.671099  \n",
       "3                   0.948726  \n",
       "4                   0.023673  \n",
       "5                   0.953964  \n",
       "...                      ...  \n",
       "12671               0.997582  \n",
       "12672               0.998489  \n",
       "12673               0.998993  \n",
       "12674               0.998791  \n",
       "12675               0.998892  \n",
       "\n",
       "[12675 rows x 4 columns]"
      ]
     },
     "metadata": {},
     "output_type": "display_data"
    }
   ],
   "source": [
    "result_b = probability_j.rename(columns={'p_ij_eq1_spam': 'P(X_ij = 1 | Y_i = S)',\n",
    "                                         'p_ij_eq0_spam': 'P(X_ij = 0 | Y_i = S)',\n",
    "                                         'p_ij_eq1_ham': 'P(X_ij = 1 | Y_i = H)',\n",
    "                                         'p_ij_eq0_ham': 'P(X_ij = 0 | Y_i = H)'})\n",
    "result_b.index = result_b.index + 1\n",
    "display(result_b)\n",
    "\n",
    "# print('P(X_ij = 1 | Y_i = S):')\n",
    "# for i in range(len(p_ij_eq1_spam)):\n",
    "#     print(f'index j={i+1}: prob={p_ij_eq1_spam[i]}')\n",
    "\n",
    "# print('P(X_ij = 0 | Y_i = S):')\n",
    "# for i in range(len(p_ij_eq0_spam)):\n",
    "#     print(f'index j={i+1}: prob={p_ij_eq0_spam[i]}')\n",
    "\n",
    "# print('P(X_ij = 1 | Y_i = H):')\n",
    "# for i in range(len(p_ij_eq1_ham)):\n",
    "#     print(f'index j={i+1}: prob={p_ij_eq1_ham[i]}')\n",
    "\n",
    "# print('P(X_ij = 0 | Y_i = H):')\n",
    "# for i in range(len(p_ij_eq0_ham)):\n",
    "#     print(f'index j={i+1}: prob={p_ij_eq0_ham[i]}')"
   ]
  },
  {
   "cell_type": "markdown",
   "id": "a777ba98d69a40cb",
   "metadata": {
    "collapsed": false,
    "jupyter": {
     "outputs_hidden": false
    }
   },
   "source": [
    "(c) Consider a simplified dataset that only contains the presence or absence of a single word, $j = $``money\". Compute and report the numerical values of the conditional probabilities $$P(X_{ij} = 1 \\ | \\ Y_i = S), \\ P(X_{ij} = 1 \\ | \\ Y_i = H).$$ What is the test accuracy of a Bayesian classifier based on this single word?"
   ]
  },
  {
   "cell_type": "code",
   "execution_count": 9,
   "id": "c495de14c3e45f43",
   "metadata": {
    "ExecuteTime": {
     "end_time": "2023-10-05T06:34:45.238220200Z",
     "start_time": "2023-10-05T06:34:45.231646300Z"
    },
    "collapsed": false,
    "jupyter": {
     "outputs_hidden": false
    }
   },
   "outputs": [
    {
     "name": "stdout",
     "output_type": "stream",
     "text": [
      "Index([179], dtype='int64')\n"
     ]
    },
    {
     "data": {
      "text/plain": [
       "p_ij_eq1_spam    0.164143\n",
       "p_ij_eq0_spam    0.835857\n",
       "p_ij_eq1_ham     0.030321\n",
       "p_ij_eq0_ham     0.969679\n",
       "Name: 179, dtype: float64"
      ]
     },
     "metadata": {},
     "output_type": "display_data"
    }
   ],
   "source": [
    "# Money is when j=180 (dataframe index starts from zero here)\n",
    "print(vocab[vocab['text']=='money'].index)\n",
    "display(probability_j.iloc[179])"
   ]
  },
  {
   "cell_type": "markdown",
   "id": "2724eb6961caf5d4",
   "metadata": {
    "collapsed": false,
    "jupyter": {
     "outputs_hidden": false
    }
   },
   "source": [
    "a classifier that assigns label spam if $P(X_i\\ |\\ Y_i = S)> \\ P(X_i \\ | \\ Y_i = H)$"
   ]
  },
  {
   "cell_type": "code",
   "execution_count": 10,
   "id": "89665bdc2051c5fc",
   "metadata": {
    "ExecuteTime": {
     "end_time": "2023-10-05T06:34:45.238220200Z",
     "start_time": "2023-10-05T06:34:45.237715300Z"
    },
    "collapsed": false,
    "jupyter": {
     "outputs_hidden": false
    }
   },
   "outputs": [
    {
     "name": "stdout",
     "output_type": "stream",
     "text": [
      "If Xij = 1, whether to classify email i as spam:\n",
      "True\n",
      "If Xij = 0, whether to classify email i as spam:\n",
      "False\n"
     ]
    }
   ],
   "source": [
    "print('If Xij = 1, whether to classify email i as spam:')\n",
    "print(probability_j.iloc[179]['p_ij_eq1_spam'] > probability_j.iloc[179]['p_ij_eq1_ham'])\n",
    "print('If Xij = 0, whether to classify email i as spam:')\n",
    "print(probability_j.iloc[179]['p_ij_eq0_spam'] > probability_j.iloc[179]['p_ij_eq0_ham'])"
   ]
  },
  {
   "cell_type": "code",
   "execution_count": 11,
   "id": "92536881fc65742c",
   "metadata": {
    "ExecuteTime": {
     "end_time": "2023-10-05T06:34:45.283534700Z",
     "start_time": "2023-10-05T06:34:45.238220200Z"
    },
    "collapsed": false,
    "jupyter": {
     "outputs_hidden": false
    }
   },
   "outputs": [
    {
     "name": "stdout",
     "output_type": "stream",
     "text": [
      "The test accuracy is: 0.5573843416370107\n"
     ]
    }
   ],
   "source": [
    "test_X_feat_c = testFeat.iloc[:,179]\n",
    "test_label_c = testLabels.copy()\n",
    "test_label_c['pred'] = np.where(test_X_feat_c==1, 1, 0)\n",
    "print('The test accuracy is:', accuracy_score(test_label_c['label'], test_label_c['pred']))"
   ]
  },
  {
   "cell_type": "markdown",
   "id": "60d99ef99c8528ec",
   "metadata": {
    "collapsed": false,
    "jupyter": {
     "outputs_hidden": false
    }
   },
   "source": [
    "(d) Repeat part (c) for a different single word, $j = $``thanks\". Provide an intuitive explanation for any differences in classification performance."
   ]
  },
  {
   "cell_type": "code",
   "execution_count": 12,
   "id": "50bc49eaba068d65",
   "metadata": {
    "ExecuteTime": {
     "end_time": "2023-10-05T06:34:45.283534700Z",
     "start_time": "2023-10-05T06:34:45.253480200Z"
    },
    "collapsed": false,
    "jupyter": {
     "outputs_hidden": false
    }
   },
   "outputs": [
    {
     "name": "stdout",
     "output_type": "stream",
     "text": [
      "Index([859], dtype='int64')\n"
     ]
    },
    {
     "data": {
      "text/plain": [
       "p_ij_eq1_spam    0.068530\n",
       "p_ij_eq0_spam    0.931470\n",
       "p_ij_eq1_ham     0.320137\n",
       "p_ij_eq0_ham     0.679863\n",
       "Name: 859, dtype: float64"
      ]
     },
     "metadata": {},
     "output_type": "display_data"
    }
   ],
   "source": [
    "# Money is when j=860 (dataframe index starts from zero here)\n",
    "print(vocab[vocab['text']=='thanks'].index)\n",
    "display(probability_j.iloc[859])"
   ]
  },
  {
   "cell_type": "code",
   "execution_count": 13,
   "id": "a75c3672469a328",
   "metadata": {
    "ExecuteTime": {
     "end_time": "2023-10-05T06:34:45.482441600Z",
     "start_time": "2023-10-05T06:34:45.267658200Z"
    },
    "collapsed": false,
    "jupyter": {
     "outputs_hidden": false
    }
   },
   "outputs": [
    {
     "name": "stdout",
     "output_type": "stream",
     "text": [
      "If Xij = 1, whether to classify email i as spam:\n",
      "False\n",
      "If Xij = 0, whether to classify email i as spam:\n",
      "True\n"
     ]
    }
   ],
   "source": [
    "print('If Xij = 1, whether to classify email i as spam:')\n",
    "print(probability_j.iloc[859]['p_ij_eq1_spam'] > probability_j.iloc[859]['p_ij_eq1_ham'])\n",
    "print('If Xij = 0, whether to classify email i as spam:')\n",
    "print(probability_j.iloc[859]['p_ij_eq0_spam'] > probability_j.iloc[859]['p_ij_eq0_ham'])"
   ]
  },
  {
   "cell_type": "code",
   "execution_count": 14,
   "id": "b46e3d8c3f2279e7",
   "metadata": {
    "ExecuteTime": {
     "end_time": "2023-10-05T06:34:45.482441600Z",
     "start_time": "2023-10-05T06:34:45.270313700Z"
    },
    "collapsed": false,
    "jupyter": {
     "outputs_hidden": false
    }
   },
   "outputs": [
    {
     "name": "stdout",
     "output_type": "stream",
     "text": [
      "The test accuracy is: 0.6315243179122183\n"
     ]
    }
   ],
   "source": [
    "test_X_feat_d = testFeat.iloc[:,859]\n",
    "test_label_d = testLabels.copy()\n",
    "test_label_d['pred'] = np.where(test_X_feat_d==1, 0, 1)\n",
    "print('The test accuracy is:', accuracy_score(test_label_d['label'], test_label_d['pred']))"
   ]
  },
  {
   "cell_type": "markdown",
   "id": "7b913759aae78f40",
   "metadata": {
    "collapsed": false,
    "jupyter": {
     "outputs_hidden": false
    }
   },
   "source": [
    "Explanation: The prediction accuracy increased after changing the word. This might be because \"thanks\" is more sentimental, and an email containing this word is more likely to be ham, while \"money\" is a neutral word which might have weaker prediction power."
   ]
  },
  {
   "cell_type": "markdown",
   "id": "e536c5bbae7eb850",
   "metadata": {
    "collapsed": false,
    "jupyter": {
     "outputs_hidden": false
    }
   },
   "source": [
    "(e) Consider a slightly larger dataset which contains the presence or absence of the two words (money,thanks) from parts (c-d). Using the naive Bayes assumption, determine the test accuracy of a classifier based on these two words.\n",
    "\n",
    "When the number of words $W$ is large, the probabilities become very small, and can underflow to 0 when using finite-precision arithmetic on a computer. To avoid this, we will instead work in the log-domain, and pick the class whose log-probability is largest. Because $\\log(ab) = \\log(a) + \\log(b)$, we have:\n",
    "\n",
    "$$\n",
    "P(X_{i,\\cdot} \\ | \\ Y_i = S) =\\log \\prod_{j=1}^{W} P(X_{ij} \\ | \\ Y_i = S) = \\sum_{j=1}^{W} \\log P(X_{ij} \\ | \\ Y_i = S)\n",
    "$$\n",
    "\n",
    "with a similar identity for $\\log P(X_{i,\\bullet} \\ | \\ Y_i = H).$"
   ]
  },
  {
   "cell_type": "code",
   "execution_count": 15,
   "id": "7387fe1df5541775",
   "metadata": {
    "ExecuteTime": {
     "end_time": "2023-10-05T06:34:45.482441600Z",
     "start_time": "2023-10-05T06:34:45.282826500Z"
    },
    "collapsed": false,
    "jupyter": {
     "outputs_hidden": false
    }
   },
   "outputs": [
    {
     "data": {
      "text/html": [
       "<div>\n",
       "<style scoped>\n",
       "    .dataframe tbody tr th:only-of-type {\n",
       "        vertical-align: middle;\n",
       "    }\n",
       "\n",
       "    .dataframe tbody tr th {\n",
       "        vertical-align: top;\n",
       "    }\n",
       "\n",
       "    .dataframe thead th {\n",
       "        text-align: right;\n",
       "    }\n",
       "</style>\n",
       "<table border=\"1\" class=\"dataframe\">\n",
       "  <thead>\n",
       "    <tr style=\"text-align: right;\">\n",
       "      <th></th>\n",
       "      <th>p_ij_eq1_spam</th>\n",
       "      <th>p_ij_eq0_spam</th>\n",
       "      <th>p_ij_eq1_ham</th>\n",
       "      <th>p_ij_eq0_ham</th>\n",
       "    </tr>\n",
       "  </thead>\n",
       "  <tbody>\n",
       "    <tr>\n",
       "      <th>179</th>\n",
       "      <td>-1.807018</td>\n",
       "      <td>-0.179298</td>\n",
       "      <td>-3.495903</td>\n",
       "      <td>-0.030791</td>\n",
       "    </tr>\n",
       "    <tr>\n",
       "      <th>859</th>\n",
       "      <td>-2.680478</td>\n",
       "      <td>-0.070992</td>\n",
       "      <td>-1.139006</td>\n",
       "      <td>-0.385864</td>\n",
       "    </tr>\n",
       "  </tbody>\n",
       "</table>\n",
       "</div>"
      ],
      "text/plain": [
       "     p_ij_eq1_spam  p_ij_eq0_spam  p_ij_eq1_ham  p_ij_eq0_ham\n",
       "179      -1.807018      -0.179298     -3.495903     -0.030791\n",
       "859      -2.680478      -0.070992     -1.139006     -0.385864"
      ]
     },
     "metadata": {},
     "output_type": "display_data"
    }
   ],
   "source": [
    "# Log probability\n",
    "log_prob_j = np.log(probability_j)\n",
    "display(log_prob_j.iloc[[179, 859],])"
   ]
  },
  {
   "cell_type": "code",
   "execution_count": 16,
   "id": "812afa9190be6c8b",
   "metadata": {
    "ExecuteTime": {
     "end_time": "2023-10-05T06:34:45.482441600Z",
     "start_time": "2023-10-05T06:34:45.290615100Z"
    },
    "collapsed": false,
    "jupyter": {
     "outputs_hidden": false
    }
   },
   "outputs": [
    {
     "name": "stdout",
     "output_type": "stream",
     "text": [
      "The test accuracy is: 0.6361209964412812\n"
     ]
    }
   ],
   "source": [
    "# Use matrix product\n",
    "test_X_feat_e = testFeat.iloc[:,[179,859]]\n",
    "test_X_feat_comp_e = 1 - testFeat.iloc[:,[179,859]]\n",
    "\n",
    "test_log_sum_spam_e = test_X_feat_e.dot(log_prob_j.iloc[[179, 859], 0])\\\n",
    "    + test_X_feat_comp_e.dot(log_prob_j.iloc[[179, 859], 1])\n",
    "test_log_sum_ham_e = test_X_feat_e.dot(log_prob_j.iloc[[179, 859], 2])\\\n",
    "    + test_X_feat_comp_e.dot(log_prob_j.iloc[[179, 859], 3])\n",
    "\n",
    "test_label_e = testLabels.copy()\n",
    "test_label_e['pred'] = np.where(test_log_sum_spam_e>test_log_sum_ham_e, 1, 0)\n",
    "print('The test accuracy is:', accuracy_score(test_label_e['label'], test_label_e['pred']))"
   ]
  },
  {
   "cell_type": "markdown",
   "id": "a65f4557065350f3",
   "metadata": {
    "collapsed": false,
    "jupyter": {
     "outputs_hidden": false
    }
   },
   "source": [
    "We see that the test accuracy is slightly improved."
   ]
  },
  {
   "cell_type": "markdown",
   "id": "e72706d93b9b827a",
   "metadata": {
    "collapsed": false,
    "jupyter": {
     "outputs_hidden": false
    }
   },
   "source": [
    "(f) Using the identity in the equation above, modify your classification code to compute the log-probability of the spam and ham classes in a numerically robust fashion. Determine the test accuracy of a classifier based on all $W$ words in the full dataset. Hint: this classifier should take seconds (not minutes) to train and test, and be much more accurate than part (e)"
   ]
  },
  {
   "cell_type": "code",
   "execution_count": 17,
   "id": "8078ae246e0c2d19",
   "metadata": {
    "ExecuteTime": {
     "end_time": "2023-10-05T06:34:45.482441600Z",
     "start_time": "2023-10-05T06:34:45.314172200Z"
    },
    "collapsed": false,
    "jupyter": {
     "outputs_hidden": false
    }
   },
   "outputs": [],
   "source": [
    "def bayes_classifier(prob_j, index_set_j):\n",
    "    index_set_j.sort()\n",
    "    log_proba_j = np.log(prob_j)\n",
    "    \n",
    "    # Use matrix product\n",
    "    test_X_feat = testFeat.iloc[:,index_set_j]\n",
    "    test_X_feat_comp = 1 - testFeat.iloc[:,index_set_j]\n",
    "    \n",
    "    # col0 is spam & Xij=1, col1 is spam & Xij=0\n",
    "    # col3 is ham & Xij=1, col4 is ham & Xij=0\n",
    "    test_log_sum_spam = test_X_feat.dot(log_proba_j.iloc[index_set_j, 0])\\\n",
    "        + test_X_feat_comp.dot(log_proba_j.iloc[index_set_j, 1])\n",
    "    test_log_sum_ham = test_X_feat.dot(log_proba_j.iloc[index_set_j, 2])\\\n",
    "        + test_X_feat_comp.dot(log_proba_j.iloc[index_set_j, 3])\n",
    "    \n",
    "    test_label = testLabels.copy()\n",
    "    test_label['pred'] = np.where(test_log_sum_spam>test_log_sum_ham, 1, 0)\n",
    "    \n",
    "    return test_log_sum_spam, test_log_sum_ham, test_label"
   ]
  },
  {
   "cell_type": "code",
   "execution_count": 18,
   "id": "6cef3ec09991f2b0",
   "metadata": {
    "ExecuteTime": {
     "end_time": "2023-10-05T06:34:47.000627200Z",
     "start_time": "2023-10-05T06:34:45.335994400Z"
    },
    "collapsed": false,
    "jupyter": {
     "outputs_hidden": false
    }
   },
   "outputs": [
    {
     "name": "stdout",
     "output_type": "stream",
     "text": [
      "The test accuracy is: 0.9494365361803084\n"
     ]
    }
   ],
   "source": [
    "W=12675\n",
    "D=20229\n",
    "\n",
    "index_set = [i for i in range(W)]\n",
    "test_log_sum_spam_f, test_log_sum_ham_f, test_label_f = \\\n",
    "    bayes_classifier(probability_j, index_set)\n",
    "print('The test accuracy is:', accuracy_score(test_label_f['label'], test_label_f['pred']))"
   ]
  },
  {
   "cell_type": "markdown",
   "id": "3db32088345382ef",
   "metadata": {
    "collapsed": false,
    "jupyter": {
     "outputs_hidden": false
    }
   },
   "source": [
    "We see now the test accuracy is very high！ We can also check the correctness of the codes by changing the index_set to [179], [859], [179, 859]. It's also very fast! Cheers!"
   ]
  }
 ],
 "metadata": {
  "kernelspec": {
   "display_name": "Python 3 (ipykernel)",
   "language": "python",
   "name": "python3"
  },
  "language_info": {
   "codemirror_mode": {
    "name": "ipython",
    "version": 3
   },
   "file_extension": ".py",
   "mimetype": "text/x-python",
   "name": "python",
   "nbconvert_exporter": "python",
   "pygments_lexer": "ipython3",
   "version": "3.11.4"
  }
 },
 "nbformat": 4,
 "nbformat_minor": 5
}
