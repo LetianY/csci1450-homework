{
 "cells": [
  {
   "cell_type": "markdown",
   "source": [
    "# Homework 1 Problem 6\n",
    "\n",
    "Darius Dice conducts an experiment in which he rolls a fair six-sided die. If he rolls any number other than a 6, he records the result and rolls the die again. If he rolls a 6, he records the result and stops. If Darius rolls the die 10 times in a row without rolling a 6, he becomes bored and stops anyway. To show your work below, submit your code as well as any derivations."
   ],
   "metadata": {
    "collapsed": false
   },
   "id": "f9ed7e443fcab853"
  },
  {
   "cell_type": "markdown",
   "source": [
    "(a) What is the probability that Darius rolls at least one 6? Derive an equation for this probability, and also compute its numeric value.\n",
    "\n",
    "*Answer*: The result each time is independent. Since probability of get six in one trial is 1/6, the probability of getting no 6 in 10 trails will be $(1-1/6)^{10}$. Therefore, the probability of getting at least one six will be $(1-(1-1/6)^{10})$."
   ],
   "metadata": {
    "collapsed": false
   },
   "id": "47c0f3632d45cc7f"
  },
  {
   "cell_type": "code",
   "execution_count": 1,
   "outputs": [
    {
     "name": "stdout",
     "output_type": "stream",
     "text": [
      "The probability that Darius rolls at least one 6 is: 0.8384944171101543\n"
     ]
    }
   ],
   "source": [
    "print(\"The probability that Darius rolls at least one 6 is:\", 1-(1-1/6)**10)"
   ],
   "metadata": {
    "collapsed": false,
    "ExecuteTime": {
     "end_time": "2023-09-20T22:52:17.619360500Z",
     "start_time": "2023-09-20T22:52:17.603487900Z"
    }
   },
   "id": "3ac26c8261ff6188"
  },
  {
   "cell_type": "markdown",
   "source": [
    "(b) Write a program to determine the probability that Darius rolls at least one 5 by counting the number of outcomes where this occurs. Hint: You can verify your code by hand-checking the result for a smaller maximum number of die rolls.\n",
    "\n",
    "*Answer*: Besides codes, we also derive the possibility here.\n",
    "- The probability that the first result is 6 is $1/6$\n",
    "- The probability that the second result is 6 is $5/6*1/6$\n",
    "- The probability that the n-th result is 6 is $(5/6)^{n-1}*(1/6)$, $n \\leq 10$\n",
    "- The probability that getting no six after n trials is $(5/6)^{n}$\n",
    "\n",
    "The probability of getting no 5 is:\n",
    "$\\sum_{i=0}^{9} (4/6)^{i}*(1/6) + (4/6)^{10}$\n",
    "\n",
    "Therefore, theoretically, the probability of getting at least one 5 is:\n",
    "$1 - \\sum_{i=0}^{9} (4/6)^{i}*(1/6) - (4/6)^{10}$\n",
    "\n",
    "We first write codes to calculate this number."
   ],
   "metadata": {
    "collapsed": false
   },
   "id": "4dbaa9e0158a520f"
  },
  {
   "cell_type": "code",
   "execution_count": 3,
   "outputs": [
    {
     "name": "stdout",
     "output_type": "stream",
     "text": [
      "The theoretical probability of getting at least one 5 is 0.491329235042084\n"
     ]
    }
   ],
   "source": [
    "prob = 1 - (4/6)**10\n",
    "for i in range(10):\n",
    "    prob -= (1/6) * (4/6)**i\n",
    "print('The theoretical probability of getting at least one 5 is', prob)"
   ],
   "metadata": {
    "collapsed": false,
    "ExecuteTime": {
     "end_time": "2023-09-20T23:18:39.632426200Z",
     "start_time": "2023-09-20T23:18:39.627161300Z"
    }
   },
   "id": "c0ead3594e64fc2d"
  },
  {
   "cell_type": "markdown",
   "source": [
    "We further use permutation & counting in codes to get & verify the probability."
   ],
   "metadata": {
    "collapsed": false
   },
   "id": "bf5f4bb16bffdf03"
  },
  {
   "cell_type": "code",
   "execution_count": 4,
   "outputs": [
    {
     "name": "stdout",
     "output_type": "stream",
     "text": [
      "Number of trial: 10\n",
      "Sample space size: 60466176\n",
      "Total count 29708800\n",
      "The simulated probability of getting at least one 5 is 0.4913292350420837\n"
     ]
    }
   ],
   "source": [
    "from itertools import product\n",
    "\n",
    "dice = [1,2,3,4,5,6]\n",
    "\n",
    "def cal_prob_b(n):\n",
    "    temp = [dice for _ in range(n)]\n",
    "    res = list(product(*temp))\n",
    "    sample_size = len(res)\n",
    "    count = 0\n",
    "    \n",
    "    for sequence in res:\n",
    "        if 6 in sequence:\n",
    "            if 5 in sequence:\n",
    "                if sequence.index(5) < sequence.index(6):\n",
    "                    count += 1\n",
    "        else:\n",
    "            if 5 in sequence:\n",
    "                count += 1\n",
    "    prob_b  = count / sample_size\n",
    "    \n",
    "    print('Number of trial:', n)\n",
    "    print('Sample space size:', sample_size)\n",
    "    print('Total count', count)\n",
    "    \n",
    "    return prob_b\n",
    "                 \n",
    "n = 10\n",
    "prob =  cal_prob_b(n)\n",
    "print('The simulated probability of getting at least one 5 is', prob)"
   ],
   "metadata": {
    "collapsed": false,
    "ExecuteTime": {
     "end_time": "2023-09-20T23:37:24.968388300Z",
     "start_time": "2023-09-20T23:36:56.349857900Z"
    }
   },
   "id": "eff95e813f3e8a93"
  },
  {
   "cell_type": "markdown",
   "source": [
    "(c) Write a program to determine the probability that Darius rolls strictly more 4s than 3s."
   ],
   "metadata": {
    "collapsed": false
   },
   "id": "d2a7127def321331"
  },
  {
   "cell_type": "code",
   "execution_count": 17,
   "outputs": [],
   "source": [
    "def cal_prob_c(n):\n",
    "    temp = [dice for _ in range(n)]\n",
    "    res = list(product(*temp))\n",
    "    sample_size = len(res)\n",
    "    count = 0\n",
    "    \n",
    "    for sequence in res:\n",
    "        if 6 in sequence:\n",
    "            index_6 = sequence.index(6)\n",
    "            if sequence[:index_6].count(4) > sequence[:index_6].count(3):\n",
    "                count += 1\n",
    "        else:\n",
    "            if sequence.count(4) > sequence.count(3):\n",
    "                count += 1\n",
    "                \n",
    "    prob_c  = count / sample_size\n",
    "    print('Number of trial:', n)\n",
    "    print('Sample space size:', sample_size)\n",
    "    print('Total count:', count)\n",
    "    \n",
    "    return prob_c"
   ],
   "metadata": {
    "collapsed": false,
    "ExecuteTime": {
     "end_time": "2023-09-20T23:52:24.743861100Z",
     "start_time": "2023-09-20T23:52:24.735857Z"
    }
   },
   "id": "640cc0a56a8df8ef"
  },
  {
   "cell_type": "code",
   "execution_count": 18,
   "outputs": [
    {
     "name": "stdout",
     "output_type": "stream",
     "text": [
      "Number of trial: 10\n",
      "Sample space size: 60466176\n",
      "Total count: 16566000\n",
      "The simulated probability that Darius rolls strictly more 4s than 3s is 0.27397135218208607\n"
     ]
    }
   ],
   "source": [
    "n = 10\n",
    "prob =  cal_prob_c(n)\n",
    "print('The simulated probability that Darius rolls strictly more 4s than 3s is', prob)"
   ],
   "metadata": {
    "collapsed": false,
    "ExecuteTime": {
     "end_time": "2023-09-20T23:52:59.784940600Z",
     "start_time": "2023-09-20T23:52:24.900278700Z"
    }
   },
   "id": "ddee99d06f96a866"
  },
  {
   "cell_type": "markdown",
   "source": [
    "(d) Ten die rolls can sum to at most 60. Let R denote the sum of the ten rolls. What is the range of possible sums of rolls (the sample space!) that Darius can achieve? Compute and plot the probabilities that the sum of Darius’s rolled dice equal each integer in that range."
   ],
   "metadata": {
    "collapsed": false
   },
   "id": "7e9061b4b0b654ff"
  },
  {
   "cell_type": "code",
   "execution_count": 26,
   "outputs": [],
   "source": [
    "import matplotlib.pyplot as plt\n",
    "from collections import OrderedDict\n",
    "\n",
    "def cal_prob_d(n):\n",
    "    temp = [dice for _ in range(n)]\n",
    "    res = list(product(*temp))\n",
    "    sample_size = len(res)\n",
    "    sum_count = {}\n",
    "    \n",
    "    for sequence in res:\n",
    "        if 6 in sequence:\n",
    "            index_6 = sequence.index(6)\n",
    "            sum_i = sum(sequence[:index_6+1])\n",
    "        else:\n",
    "            sum_i = sum(sequence)\n",
    "        if sum_i in sum_count:\n",
    "            sum_count[sum_i] += 1\n",
    "        else:\n",
    "            sum_count[sum_i] = 1\n",
    "    \n",
    "    sum_count = OrderedDict(sorted(sum_count.items()))\n",
    "    prob_d = {k: v / sample_size for k, v in sum_count.items()}\n",
    "             \n",
    "    print(f'The range of sum of {n} trial is:', \n",
    "          f'min={min(sum_count)}', f'max={max(sum_count)}')\n",
    "    print('Possible sum (sample space)', sum_count.keys())\n",
    "    \n",
    "    return prob_d"
   ],
   "metadata": {
    "collapsed": false,
    "ExecuteTime": {
     "end_time": "2023-09-21T00:12:15.058591200Z",
     "start_time": "2023-09-21T00:12:15.055579500Z"
    }
   },
   "id": "d6e5da93f57cb6c3"
  },
  {
   "cell_type": "code",
   "execution_count": 39,
   "outputs": [
    {
     "name": "stdout",
     "output_type": "stream",
     "text": [
      "The range of sum of 10 trial is: min=6 max=51\n",
      "Possible sum (sample space) odict_keys([6, 7, 8, 9, 10, 11, 12, 13, 14, 15, 16, 17, 18, 19, 20, 21, 22, 23, 24, 25, 26, 27, 28, 29, 30, 31, 32, 33, 34, 35, 36, 37, 38, 39, 40, 41, 42, 43, 44, 45, 46, 47, 48, 49, 50, 51])\n"
     ]
    }
   ],
   "source": [
    "n = 10\n",
    "prob =  cal_prob_d(n)"
   ],
   "metadata": {
    "collapsed": false,
    "ExecuteTime": {
     "end_time": "2023-09-21T00:58:02.421901500Z",
     "start_time": "2023-09-21T00:57:25.215350800Z"
    }
   },
   "id": "1b128b0d6d39757d"
  },
  {
   "cell_type": "code",
   "execution_count": 40,
   "outputs": [
    {
     "data": {
      "text/plain": "<Figure size 640x480 with 1 Axes>",
      "image/png": "[encoded data removed]"
     },
     "metadata": {},
     "output_type": "display_data"
    }
   ],
   "source": [
    "plt.bar(range(len(prob)), prob.values(), align='center')\n",
    "plt.xticks(range(len(prob)), list(prob.keys()), rotation=70)\n",
    "plt.show()"
   ],
   "metadata": {
    "collapsed": false,
    "ExecuteTime": {
     "end_time": "2023-09-21T00:58:02.729979900Z",
     "start_time": "2023-09-21T00:58:02.421901500Z"
    }
   },
   "id": "6999f62efb2d59b0"
  },
  {
   "cell_type": "markdown",
   "source": [
    "(e) Eli rolls dice similarly, but stops if he rolls a 1 (or after 10 rolls). What is the range of possible sums that Eli can roll? Compute and plot the probability that the sum of Eli’s dice equals each integer in that range."
   ],
   "metadata": {
    "collapsed": false
   },
   "id": "7961dcb40b785477"
  },
  {
   "cell_type": "code",
   "execution_count": 30,
   "outputs": [],
   "source": [
    "def cal_prob_e(n):\n",
    "    temp = [dice for _ in range(n)]\n",
    "    res = list(product(*temp))\n",
    "    sample_size = len(res)\n",
    "    sum_count = {}\n",
    "    \n",
    "    for sequence in res:\n",
    "        if 1 in sequence:\n",
    "            index_1 = sequence.index(1)\n",
    "            sum_i = sum(sequence[:index_1+1])\n",
    "        else:\n",
    "            sum_i = sum(sequence)\n",
    "        if sum_i in sum_count:\n",
    "            sum_count[sum_i] += 1\n",
    "        else:\n",
    "            sum_count[sum_i] = 1\n",
    "             \n",
    "    sum_count = OrderedDict(sorted(sum_count.items()))\n",
    "    prob_e = {k: v / sample_size for k, v in sum_count.items()}\n",
    "             \n",
    "    print(f'The range of sum of {n} trial is:', \n",
    "          f'min={min(sum_count)}', f'max={max(sum_count)}')\n",
    "    print('Possible sum (sample space)', sum_count.keys())\n",
    "    \n",
    "    return prob_e"
   ],
   "metadata": {
    "collapsed": false,
    "ExecuteTime": {
     "end_time": "2023-09-21T00:15:31.987610600Z",
     "start_time": "2023-09-21T00:15:31.940392800Z"
    }
   },
   "id": "5cbcd170f5e1f0a4"
  },
  {
   "cell_type": "code",
   "execution_count": 37,
   "outputs": [
    {
     "name": "stdout",
     "output_type": "stream",
     "text": [
      "The range of sum of 10 trial is: min=1 max=60\n",
      "Possible sum (sample space) odict_keys([1, 3, 4, 5, 6, 7, 8, 9, 10, 11, 12, 13, 14, 15, 16, 17, 18, 19, 20, 21, 22, 23, 24, 25, 26, 27, 28, 29, 30, 31, 32, 33, 34, 35, 36, 37, 38, 39, 40, 41, 42, 43, 44, 45, 46, 47, 48, 49, 50, 51, 52, 53, 54, 55, 56, 57, 58, 59, 60])\n"
     ]
    }
   ],
   "source": [
    "n = 10\n",
    "prob =  cal_prob_e(n)"
   ],
   "metadata": {
    "collapsed": false,
    "ExecuteTime": {
     "end_time": "2023-09-21T00:57:24.881373200Z",
     "start_time": "2023-09-21T00:56:46.732594400Z"
    }
   },
   "id": "8253a3eac5c06339"
  },
  {
   "cell_type": "code",
   "execution_count": 38,
   "outputs": [
    {
     "data": {
      "text/plain": "<Figure size 640x480 with 1 Axes>",
      "image/png": "[encoded data removed]"
     },
     "metadata": {},
     "output_type": "display_data"
    }
   ],
   "source": [
    "plt.bar(range(len(prob)), prob.values(), align='center')\n",
    "plt.xticks(range(len(prob)), list(prob.keys()), rotation=70)\n",
    "plt.show()"
   ],
   "metadata": {
    "collapsed": false,
    "ExecuteTime": {
     "end_time": "2023-09-21T00:57:25.200891800Z",
     "start_time": "2023-09-21T00:57:24.925043900Z"
    }
   },
   "id": "24ffe75a4a3bb0dd"
  },
  {
   "cell_type": "markdown",
   "source": [
    "(f) Eli challenges Darius to a game in which they each roll dice as described above, and the winner is the person who rolls the sum closest to some target integer x, without going over. If they roll the same sum, or both go over, no one wins. Compute and plot the probability that Darius wins, and the probability that Eli wins, for all targets 1, 2, ..., 60. Attach your plot below."
   ],
   "metadata": {
    "collapsed": false
   },
   "id": "fb7d48060512dae6"
  },
  {
   "cell_type": "code",
   "execution_count": 34,
   "outputs": [
    {
     "name": "stdout",
     "output_type": "stream",
     "text": [
      "Eli\n",
      "The range of sum of 10 trial is: min=1 max=60\n",
      "Possible sum (sample space) odict_keys([1, 3, 4, 5, 6, 7, 8, 9, 10, 11, 12, 13, 14, 15, 16, 17, 18, 19, 20, 21, 22, 23, 24, 25, 26, 27, 28, 29, 30, 31, 32, 33, 34, 35, 36, 37, 38, 39, 40, 41, 42, 43, 44, 45, 46, 47, 48, 49, 50, 51, 52, 53, 54, 55, 56, 57, 58, 59, 60])\n",
      "Darius\n",
      "The range of sum of 10 trial is: min=6 max=51\n",
      "Possible sum (sample space) odict_keys([6, 7, 8, 9, 10, 11, 12, 13, 14, 15, 16, 17, 18, 19, 20, 21, 22, 23, 24, 25, 26, 27, 28, 29, 30, 31, 32, 33, 34, 35, 36, 37, 38, 39, 40, 41, 42, 43, 44, 45, 46, 47, 48, 49, 50, 51])\n"
     ]
    }
   ],
   "source": [
    "n = 10\n",
    "\n",
    "print('Eli')\n",
    "prob_eli =  cal_prob_e(n)\n",
    "\n",
    "print('Darius')\n",
    "prob_darius = cal_prob_d(n)\n",
    "\n",
    "targets = list(range(1, 61))\n",
    "\n",
    "# Eli wins iff her sum > darius's sum & <= target\n",
    "eli_winning = [0] * 61\n",
    "\n",
    "# Darius wins iff his sum > Eli's & <= target\n",
    "darius_winning = [0] * 61\n",
    "\n",
    "for target in targets:\n",
    "    eli_wins = 0\n",
    "    darius_wins = 0\n",
    "    for eli_sum in prob_eli.keys():\n",
    "        for darius_sum in prob_darius.keys():\n",
    "            if eli_sum <= target and darius_sum <=target:\n",
    "                if eli_sum > darius_sum:\n",
    "                    eli_wins += prob_eli[eli_sum] * prob_darius[darius_sum]\n",
    "                elif eli_sum < darius_sum:\n",
    "                    darius_wins += prob_eli[eli_sum] * prob_darius[darius_sum]\n",
    "            elif eli_sum <= target < darius_sum:\n",
    "                eli_wins += prob_eli[eli_sum] * prob_darius[darius_sum]\n",
    "            elif darius_sum <= target < eli_sum:\n",
    "                darius_wins += prob_eli[eli_sum] * prob_darius[darius_sum]\n",
    "            else:\n",
    "                pass\n",
    "    eli_winning[target] = eli_wins / (eli_wins+darius_wins)\n",
    "    darius_winning[target] = darius_wins / (eli_wins+darius_wins)"
   ],
   "metadata": {
    "collapsed": false,
    "ExecuteTime": {
     "end_time": "2023-09-21T00:52:42.542947300Z",
     "start_time": "2023-09-21T00:51:27.204008200Z"
    }
   },
   "id": "798808550a97ebb4"
  },
  {
   "cell_type": "code",
   "execution_count": 35,
   "outputs": [
    {
     "data": {
      "text/plain": "<Figure size 640x480 with 1 Axes>",
      "image/png": "[encoded data removed]"
     },
     "metadata": {},
     "output_type": "display_data"
    },
    {
     "name": "stdout",
     "output_type": "stream",
     "text": [
      "[1.0, 1.0, 1.0, 1.0, 1.0, 0.6022944550669218, 0.6054214037395473, 0.5789088696886523, 0.5566481867540264, 0.5289550496692856, 0.4969560837530901, 0.488627276469571, 0.4785154935430935, 0.4662858310272296, 0.45618322064538225, 0.4474273419285134, 0.44153657038356253, 0.4355508849810353, 0.42959396151573537, 0.42377169031901735, 0.4182131397989165, 0.41232647917685017, 0.4056068145943054, 0.3978612842520211, 0.38900140383661624, 0.3790512155643581, 0.36819170543689056, 0.3567710191417895, 0.3454159566408538, 0.3348736315168406, 0.3259634756096412, 0.3194793734229145, 0.3160978939587619, 0.31629157864120505, 0.32026146037957004, 0.32789292052501445, 0.33876033131865185, 0.3521670358558443, 0.3672246099745594, 0.38295814180547594, 0.39842193654348057, 0.4128035270332731, 0.42550067543954134, 0.4361587953934661, 0.4446681659093708, 0.4511268094101877, 0.45578121346862593, 0.45895956898832724, 0.46101064263950753, 0.4622570407111572, 0.4629670058843564, 0.46334386400310573, 0.4635288670795828, 0.4636120042645677, 0.463645722703655, 0.4636578193840101, 0.4636615414395039, 0.46366247195337734, 0.46366264113771805, 0.4636626580561521]\n"
     ]
    }
   ],
   "source": [
    "# Eli's winning prob plot\n",
    "plt.bar(range(len(targets)), eli_winning[1:], align='center')\n",
    "plt.xticks(range(len(targets)), targets, rotation=70)\n",
    "plt.show()\n",
    "\n",
    "print(eli_winning[1:])"
   ],
   "metadata": {
    "collapsed": false,
    "ExecuteTime": {
     "end_time": "2023-09-21T00:55:25.392676200Z",
     "start_time": "2023-09-21T00:52:42.555675800Z"
    }
   },
   "id": "b0307873d6a38931"
  },
  {
   "cell_type": "code",
   "execution_count": 36,
   "outputs": [
    {
     "data": {
      "text/plain": "<Figure size 640x480 with 1 Axes>",
      "image/png": "[encoded data removed]"
     },
     "metadata": {},
     "output_type": "display_data"
    },
    {
     "name": "stdout",
     "output_type": "stream",
     "text": [
      "[0.0, 0.0, 0.0, 0.0, 0.0, 0.3977055449330783, 0.3945785962604527, 0.42109113031134765, 0.4433518132459736, 0.4710449503307144, 0.5030439162469099, 0.511372723530429, 0.5214845064569066, 0.5337141689727705, 0.5438167793546178, 0.5525726580714867, 0.5584634296164374, 0.5644491150189647, 0.5704060384842646, 0.5762283096809827, 0.5817868602010835, 0.5876735208231498, 0.5943931854056946, 0.602138715747979, 0.6109985961633838, 0.6209487844356418, 0.6318082945631094, 0.6432289808582105, 0.6545840433591462, 0.6651263684831593, 0.6740365243903588, 0.6805206265770855, 0.6839021060412381, 0.683708421358795, 0.67973853962043, 0.6721070794749855, 0.6612396686813481, 0.6478329641441557, 0.6327753900254406, 0.6170418581945241, 0.6015780634565195, 0.587196472966727, 0.5744993245604586, 0.563841204606534, 0.5553318340906291, 0.5488731905898123, 0.544218786531374, 0.5410404310116728, 0.5389893573604925, 0.5377429592888429, 0.5370329941156436, 0.5366561359968942, 0.5364711329204171, 0.5363879957354324, 0.536354277296345, 0.5363421806159898, 0.5363384585604961, 0.5363375280466226, 0.5363373588622818, 0.536337341943848]\n"
     ]
    }
   ],
   "source": [
    "# Darius's winning prob plot\n",
    "plt.bar(range(len(targets)), darius_winning[1:], align='center')\n",
    "plt.xticks(range(len(targets)), targets, rotation=70)\n",
    "plt.show()\n",
    "\n",
    "print(darius_winning[1:])"
   ],
   "metadata": {
    "collapsed": false,
    "ExecuteTime": {
     "end_time": "2023-09-21T00:55:25.972234Z",
     "start_time": "2023-09-21T00:55:25.375778200Z"
    }
   },
   "id": "7dfe46c162ffd484"
  },
  {
   "cell_type": "code",
   "execution_count": null,
   "outputs": [],
   "source": [],
   "metadata": {
    "collapsed": false
   },
   "id": "fcf21ad8dc87b393"
  }
 ],
 "metadata": {
  "kernelspec": {
   "display_name": "Python 3",
   "language": "python",
   "name": "python3"
  },
  "language_info": {
   "codemirror_mode": {
    "name": "ipython",
    "version": 2
   },
   "file_extension": ".py",
   "mimetype": "text/x-python",
   "name": "python",
   "nbconvert_exporter": "python",
   "pygments_lexer": "ipython2",
   "version": "2.7.6"
  }
 },
 "nbformat": 4,
 "nbformat_minor": 5
}
