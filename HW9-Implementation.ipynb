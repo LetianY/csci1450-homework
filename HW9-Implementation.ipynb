{
 "cells": [
  {
   "cell_type": "markdown",
   "source": [
    "# HW9 Problem 7 Implementation\n",
    "\n",
    "To address the weaknesses of rankings based solely on word counts, we explore the famous **pagerank** algorithm, which formed the basis for at least early versions of Google's search engine. Think of the whole internet as a directed graph where each node is a website, and there is a directed edge between node $i$ and $j$ if and only if website $i$ hyperlinks to website $j$. Intuitively, the pagerank algorithm seeks a ranking for which: \n",
    "- If a website is linked to by many other websites, then it's an important website\n",
    "- If a website has only a few links, but those links come from authoritative sites (such as www.brown.edu), then it's also important.\n",
    "- If a website links to a very large number of other websites, then the ``importance'' it transfers to each individual site is small. The pagerank algorithm uses Markov chains to allow the information provided by a link to implicitly flow both directions.\n",
    "\n",
    "To illustrate pagerank, imagine a \"random surfer\" on the internet that starts at some webpage, and sequentially visits other webpages by following hyperlinks. As illustrated in Figure 1, the surfer chooses between the outgoing links from each page with equal probability. We can then define the \"importance\" of webpage $i$ as the long-term frequency with which this random surfer visits webpage $i$. If a node has $k$ outgoing edges, then the fraction of time a visit to this node is followed by each linked neighbor is only $\\frac{1}{k}$. Denoting the state transition matrix by $T$, if the initial location of the surfer is uniform over the $m$ nodes so $\\pi_{0} = [\\frac{1}{m},\\frac{1}{m},\\dots, \\frac{1}{m}]$, the probability of viewing each webpage after $n$ time steps is then $\\pi_{0}T^{n}$. If $n$ is large and there are paths between all pairs of nodes, the state probabilities will converge to a stationary distribution $\\pi = \\pi T$. Sorting these probabilities gives the pagerank.\n"
   ],
   "metadata": {
    "collapsed": false
   },
   "id": "44a7ed3319930521"
  },
  {
   "cell_type": "markdown",
   "source": [
    "(a) Create the state transition matrix for the small network of Figure 1. What is the equilibrium distribution of this Markov chain? Which webpage has the highest pagerank?"
   ],
   "metadata": {
    "collapsed": false
   },
   "id": "6d7f636a2e86e74a"
  },
  {
   "cell_type": "code",
   "execution_count": 1,
   "outputs": [],
   "source": [
    "import numpy as np\n",
    "\n",
    "def equilibrium_distribution(P):\n",
    "    \"\"\"\n",
    "    :param P: Transition Matrix\n",
    "    :return: equilibrium distribution pi\n",
    "    \n",
    "    Note:\n",
    "    1. I pi = P.T pi --> (I-P.T) pi = [0, 0, ..., 0].T\n",
    "    2. constraint: np.ones pi = 1\n",
    "    The first n equations have rank n-1, \n",
    "    we can directly replace the last row with constrain 2\n",
    "    \"\"\"\n",
    "    \n",
    "    # P is the transition matrix\n",
    "    n = P.shape[0]  # Number of states\n",
    "    # Create a matrix A by subtracting P from the identity matrix\n",
    "    A = np.eye(n) - P.T\n",
    "    # Add a constraint for the probabilities to sum to 1\n",
    "    A[-1, :] = np.ones(n)\n",
    "    # The target vector for the system of equations\n",
    "    b = np.zeros(n)\n",
    "    b[-1] = 1\n",
    "    # Solve the system of linear equations\n",
    "    pi = np.linalg.solve(A, b)\n",
    "    return pi"
   ],
   "metadata": {
    "collapsed": false,
    "ExecuteTime": {
     "end_time": "2023-12-15T13:15:38.554153200Z",
     "start_time": "2023-12-15T13:15:38.289482500Z"
    }
   },
   "id": "64c965ce4b6d677d"
  },
  {
   "cell_type": "code",
   "execution_count": 3,
   "outputs": [
    {
     "name": "stdout",
     "output_type": "stream",
     "text": [
      "Markov Equilibrium: [0.38709677 0.12903226 0.29032258 0.19354839]\n",
      "The first page has the highest importance\n"
     ]
    }
   ],
   "source": [
    "P1 = np.array([[0, 1/3, 1/3, 1/3],\n",
    "               [0, 0, 1/2, 1/2],\n",
    "               [1, 0, 0, 0],\n",
    "               [1/2, 0, 1/2, 0]])\n",
    "pi_1 = equilibrium_distribution(P1)\n",
    "\n",
    "print('Markov Equilibrium:', pi_1)\n",
    "print('The first page has the highest importance')"
   ],
   "metadata": {
    "collapsed": false,
    "ExecuteTime": {
     "end_time": "2023-12-15T13:16:35.961565200Z",
     "start_time": "2023-12-15T13:16:35.954253100Z"
    }
   },
   "id": "ae335093d349dbe2"
  },
  {
   "cell_type": "markdown",
   "source": [
    "Of course, the structure of real-world networks is more complex than Figure 1. A naive random surfer could get stuck in a \"dead end\" page (an absorbing state) or some locally connected subset of the full web. Thus, at each step, with probability $\\alpha$ the surfer \"teleports\" to an arbitrary website at random; each of the $m$ websites has probability $\\frac{1}{m}$ of being chosen. With probability $1-\\alpha$, the surfer follows a hyperlink as above. The overall state transition matrix $G$ of this new Markov chain is then\n",
    "\\begin{equation}\n",
    "    G = (1-\\alpha) T + \\alpha B, \\qquad B = \\frac{1}{m} \\begin{bmatrix}\n",
    "    1 & 1 & \\dots & 1\\\\\n",
    "    \\vdots & \\vdots & \\ddots & \\vdots\\\\\n",
    "    1 & 1 & \\dots & 1\n",
    "    \\end{bmatrix}\n",
    "\\end{equation}\n",
    "The matrix $G$ is also known as the ``Google matrix''. In our experiments, we set $\\alpha = 0.15$. \\\\\n",
    "We now explore a larger network of $m = 9664$ websites. We provide the links structure of those sites in the matrix $L$, where $L(i,j) = 1$ if there is a link from website $i$ to website $j$, and $L(i,j) = 0$ otherwise. The **name** variable stores the names of each website.\n",
    "\n",
    "(b) Write code that creates the state transition matrix $T$, and Google matrix $G$, for the provided data. If website i has no outgoing links, then T(i,i) = 1. You should double-check that for both T and G, the sum of the transition probabilities for each state equals $1$."
   ],
   "metadata": {
    "collapsed": false
   },
   "id": "436f890697d972d9"
  },
  {
   "cell_type": "code",
   "execution_count": null,
   "outputs": [],
   "source": [
    "import numpy as np\n",
    "\n",
    "# Placeholder values for demonstration purposes\n",
    "m = 9664  # number of websites\n",
    "alpha = 0.15  # teleportation probability\n",
    "L = np.random.randint(0, 2, (m, m))  # random link structure matrix\n",
    "name = np.array([\"Website \" + str(i) for i in range(m)])  # website names\n",
    "\n",
    "# Create the transition matrix T\n",
    "T = np.zeros((m, m))\n",
    "\n",
    "# Populate the T matrix\n",
    "for i in range(m):\n",
    "    if np.sum(L[i, :]) == 0:\n",
    "        # If website i has no outgoing links, set T(i,i) = 1\n",
    "        T[i, i] = 1\n",
    "    else:\n",
    "        # Distribute transition probabilities equally among outgoing links\n",
    "        T[i, :] = L[i, :] / np.sum(L[i, :])\n",
    "\n",
    "# Check if the sum of the transition probabilities for each state equals 1\n",
    "assert np.allclose(T.sum(axis=1), 1), \"Sum of probabilities in T is not 1\"\n",
    "\n",
    "# Create matrix B\n",
    "B = np.ones((m, m)) / m\n",
    "\n",
    "# Create the Google matrix G\n",
    "G = (1 - alpha) * T + alpha * B\n",
    "\n",
    "# Check if the sum of the transition probabilities for each state equals 1 in G\n",
    "assert np.allclose(G.sum(axis=1), 1), \"Sum of probabilities in G is not 1\"\n",
    "\n",
    "# Returning the first few entries of T and G for inspection\n",
    "T[:5, :5], G[:5, :5]\n"
   ],
   "metadata": {
    "collapsed": false
   },
   "id": "e4cbc670def81373"
  }
 ],
 "metadata": {
  "kernelspec": {
   "display_name": "Python 3",
   "language": "python",
   "name": "python3"
  },
  "language_info": {
   "codemirror_mode": {
    "name": "ipython",
    "version": 2
   },
   "file_extension": ".py",
   "mimetype": "text/x-python",
   "name": "python",
   "nbconvert_exporter": "python",
   "pygments_lexer": "ipython2",
   "version": "2.7.6"
  }
 },
 "nbformat": 4,
 "nbformat_minor": 5
}
