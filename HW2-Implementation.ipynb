{
 "cells": [
  {
   "cell_type": "markdown",
   "id": "f5b5fe8449948e26",
   "metadata": {
    "collapsed": false,
    "jupyter": {
     "outputs_hidden": false
    }
   },
   "source": [
    "# Homework 1 Problem 6\n",
    "\n",
    "Datasets are given to classify patients of heart disease."
   ]
  },
  {
   "cell_type": "code",
   "execution_count": 1,
   "id": "b92393e36a3565cf",
   "metadata": {
    "ExecuteTime": {
     "end_time": "2023-09-28T04:58:33.506048600Z",
     "start_time": "2023-09-28T04:58:32.882442800Z"
    },
    "collapsed": false,
    "jupyter": {
     "outputs_hidden": false
    }
   },
   "outputs": [],
   "source": [
    "import numpy as np\n",
    "import pandas as pd"
   ]
  },
  {
   "cell_type": "code",
   "execution_count": 2,
   "id": "2b050148a51d1750",
   "metadata": {
    "ExecuteTime": {
     "end_time": "2023-09-28T04:58:33.527692Z",
     "start_time": "2023-09-28T04:58:33.511553900Z"
    },
    "collapsed": false,
    "jupyter": {
     "outputs_hidden": false
    }
   },
   "outputs": [
    {
     "data": {
      "text/html": [
       "<div>\n",
       "<style scoped>\n",
       "    .dataframe tbody tr th:only-of-type {\n",
       "        vertical-align: middle;\n",
       "    }\n",
       "\n",
       "    .dataframe tbody tr th {\n",
       "        vertical-align: top;\n",
       "    }\n",
       "\n",
       "    .dataframe thead th {\n",
       "        text-align: right;\n",
       "    }\n",
       "</style>\n",
       "<table border=\"1\" class=\"dataframe\">\n",
       "  <thead>\n",
       "    <tr style=\"text-align: right;\">\n",
       "      <th></th>\n",
       "      <th>age</th>\n",
       "      <th>chestPain</th>\n",
       "      <th>target</th>\n",
       "    </tr>\n",
       "  </thead>\n",
       "  <tbody>\n",
       "    <tr>\n",
       "      <th>0</th>\n",
       "      <td>45</td>\n",
       "      <td>1</td>\n",
       "      <td>0</td>\n",
       "    </tr>\n",
       "    <tr>\n",
       "      <th>1</th>\n",
       "      <td>57</td>\n",
       "      <td>0</td>\n",
       "      <td>0</td>\n",
       "    </tr>\n",
       "    <tr>\n",
       "      <th>2</th>\n",
       "      <td>46</td>\n",
       "      <td>0</td>\n",
       "      <td>1</td>\n",
       "    </tr>\n",
       "    <tr>\n",
       "      <th>3</th>\n",
       "      <td>71</td>\n",
       "      <td>0</td>\n",
       "      <td>0</td>\n",
       "    </tr>\n",
       "    <tr>\n",
       "      <th>4</th>\n",
       "      <td>65</td>\n",
       "      <td>0</td>\n",
       "      <td>0</td>\n",
       "    </tr>\n",
       "  </tbody>\n",
       "</table>\n",
       "</div>"
      ],
      "text/plain": [
       "   age  chestPain  target\n",
       "0   45          1       0\n",
       "1   57          0       0\n",
       "2   46          0       1\n",
       "3   71          0       0\n",
       "4   65          0       0"
      ]
     },
     "metadata": {},
     "output_type": "display_data"
    }
   ],
   "source": [
    "# read data\n",
    "df_train = pd.read_csv('hw2_trainPatient.csv', names=['age', 'chestPain', 'target'])\n",
    "df_test = pd.read_csv('hw2_testPatient.csv', names=['age', 'chestPain', 'target'])\n",
    "\n",
    "display(df_train.head(5))"
   ]
  },
  {
   "cell_type": "markdown",
   "id": "633986cf85acab1f",
   "metadata": {
    "collapsed": false,
    "jupyter": {
     "outputs_hidden": false
    }
   },
   "source": [
    "To define a probabilistic model of this data, we let $Y_{i} = 1$ if patient $i$ has heart disease,\n",
    "and $Y_{i} = 0$ if patient $i$ does not.  To construct a simple Bayesian classifier, we will compute the posterior probability $P(Y_{i}|X_{i})$ of the class label given some feature $X_i$. If $P(Y_{i} = 1|X_{i}) > P(Y_{i} = 0|X_{i})$, we classify patient $i$ as probably having heart disease. Otherwise, we classify them as probably not having heart disease.\n",
    "By Bayes' rule, the posterior probability $P(Y_{i}|X_{i})$ is calculated as:\n",
    "\n",
    "$$\n",
    "P(Y_{i}|X_{i}) = \\dfrac{P(X_{i}|Y_{i})P(Y_{i})}{P(X_{i})}.\n",
    "$$\n",
    "\n",
    "Consider the feature $A_{i}$, where $A_{i} = 1$ if patient $i$ has $age > 55$, and $A_{i} = 0$ if patient $i$ has $age \\le 55$."
   ]
  },
  {
   "cell_type": "code",
   "execution_count": 3,
   "id": "b4653f8625df36de",
   "metadata": {
    "ExecuteTime": {
     "end_time": "2023-09-28T04:58:33.544213100Z",
     "start_time": "2023-09-28T04:58:33.527692Z"
    },
    "collapsed": false,
    "jupyter": {
     "outputs_hidden": false
    }
   },
   "outputs": [
    {
     "data": {
      "text/html": [
       "<div>\n",
       "<style scoped>\n",
       "    .dataframe tbody tr th:only-of-type {\n",
       "        vertical-align: middle;\n",
       "    }\n",
       "\n",
       "    .dataframe tbody tr th {\n",
       "        vertical-align: top;\n",
       "    }\n",
       "\n",
       "    .dataframe thead th {\n",
       "        text-align: right;\n",
       "    }\n",
       "</style>\n",
       "<table border=\"1\" class=\"dataframe\">\n",
       "  <thead>\n",
       "    <tr style=\"text-align: right;\">\n",
       "      <th></th>\n",
       "      <th>A</th>\n",
       "      <th>E</th>\n",
       "      <th>Y</th>\n",
       "    </tr>\n",
       "  </thead>\n",
       "  <tbody>\n",
       "    <tr>\n",
       "      <th>0</th>\n",
       "      <td>0</td>\n",
       "      <td>1</td>\n",
       "      <td>0</td>\n",
       "    </tr>\n",
       "    <tr>\n",
       "      <th>1</th>\n",
       "      <td>1</td>\n",
       "      <td>0</td>\n",
       "      <td>0</td>\n",
       "    </tr>\n",
       "    <tr>\n",
       "      <th>2</th>\n",
       "      <td>0</td>\n",
       "      <td>0</td>\n",
       "      <td>1</td>\n",
       "    </tr>\n",
       "    <tr>\n",
       "      <th>3</th>\n",
       "      <td>1</td>\n",
       "      <td>0</td>\n",
       "      <td>0</td>\n",
       "    </tr>\n",
       "    <tr>\n",
       "      <th>4</th>\n",
       "      <td>1</td>\n",
       "      <td>0</td>\n",
       "      <td>0</td>\n",
       "    </tr>\n",
       "  </tbody>\n",
       "</table>\n",
       "</div>"
      ],
      "text/plain": [
       "   A  E  Y\n",
       "0  0  1  0\n",
       "1  1  0  0\n",
       "2  0  0  1\n",
       "3  1  0  0\n",
       "4  1  0  0"
      ]
     },
     "metadata": {},
     "output_type": "display_data"
    }
   ],
   "source": [
    "# Change column names\n",
    "df_train['A'] = np.where(df_train['age']>55, 1, 0)\n",
    "df_test['A'] = np.where(df_test['age']>55, 1, 0)\n",
    "\n",
    "df_train = df_train.rename(columns={'chestPain': 'E', 'target': 'Y'})[['A', 'E', 'Y']]\n",
    "df_test = df_test.rename(columns={'chestPain': 'E', 'target': 'Y'})[['A', 'E', 'Y']]\n",
    "\n",
    "display(df_train.head(5))"
   ]
  },
  {
   "cell_type": "markdown",
   "id": "5b2570d71854dd60",
   "metadata": {
    "collapsed": false,
    "jupyter": {
     "outputs_hidden": false
    }
   },
   "source": [
    "![a](hw2_6a.png)"
   ]
  },
  {
   "cell_type": "code",
   "execution_count": 9,
   "id": "dc8b2238a7c5827d",
   "metadata": {
    "ExecuteTime": {
     "end_time": "2023-09-28T05:26:32.677530600Z",
     "start_time": "2023-09-28T05:26:32.660382700Z"
    },
    "collapsed": false,
    "jupyter": {
     "outputs_hidden": false
    }
   },
   "outputs": [
    {
     "name": "stdout",
     "output_type": "stream",
     "text": [
      "The estimated values are:\n",
      "P(Yi=1) = 0.46\n",
      "P(Yi=0) = 0.54\n",
      "P(Ai=1|Yi=1) = 0.4782608695652174\n",
      "P(Ai=1|Yi=0) = 0.3333333333333333\n"
     ]
    }
   ],
   "source": [
    "# (a): Estimate these probabilities from the data in trainPatient, and report their values\n",
    "\n",
    "n = df_train.shape[0]\n",
    "n0 = df_train[df_train['Y']==0].shape[0]\n",
    "n1 = df_train[df_train['Y']==1].shape[0]\n",
    "n0_A = df_train[(df_train['Y']==0)&(df_train['A']==1)].shape[0]\n",
    "n1_A = df_train[(df_train['Y']==1)&(df_train['A']==1)].shape[0]\n",
    "\n",
    "p_y_equal_1 = n1/n\n",
    "p_y_equal_0 = n0/n\n",
    "p_a_given_y1 = n1_A/n1\n",
    "p_a_given_y0 = n0_A/n0\n",
    "\n",
    "print('The estimated values are:')\n",
    "print('P(Yi=1) =', p_y_equal_1)\n",
    "print('P(Yi=0) =', p_y_equal_0)\n",
    "print('P(Ai=1|Yi=1) =', p_a_given_y1)\n",
    "print('P(Ai=1|Yi=0) =', p_a_given_y0)"
   ]
  },
  {
   "cell_type": "markdown",
   "id": "ef4a7d77a6357089",
   "metadata": {
    "collapsed": false,
    "jupyter": {
     "outputs_hidden": false
    }
   },
   "source": [
    "(b) Test the Bayesian classifier based on feature Ai using the data in testPatient. What is the accuracy (percentage of correctly classified patients) of this classifier on that data?\n",
    "\n",
    "**Answer:** In this question\n",
    "$$\n",
    "P(Y_{i}|A_{i}) = \\dfrac{P(A_{i}|Y_{i})P(Y_{i})}{P(A_{i})}.\n",
    "$$\n",
    "If $P(Y_{i} = 1|A_{i}) > P(Y_{i} = 0|A_{i})$, we classify patient $i$ as probably having heart disease. That is, if $P(A_{i}|Y_{i}=1)P(Y_{i}=1) > P(A_{i}|Y_{i}=0)P(Y_{i}=0)$, we classify patient $i$ as probably having heart disease."
   ]
  },
  {
   "cell_type": "code",
   "execution_count": 11,
   "id": "7157eec4dc22a37b",
   "metadata": {
    "ExecuteTime": {
     "end_time": "2023-09-28T05:44:34.090846400Z",
     "start_time": "2023-09-28T05:44:34.079554800Z"
    },
    "collapsed": false,
    "jupyter": {
     "outputs_hidden": false
    }
   },
   "outputs": [
    {
     "name": "stdout",
     "output_type": "stream",
     "text": [
      "If Ai = 1, whether to classify patient i as probably having heart disease:\n",
      "True\n",
      "If Ai = 0, whether to classify patient i as probably having heart disease:\n",
      "False\n"
     ]
    }
   ],
   "source": [
    "print('If Ai = 1, whether to classify patient i as probably having heart disease:')\n",
    "print(p_a_given_y1 * p_y_equal_1 > p_a_given_y0 * p_y_equal_0)\n",
    "print('If Ai = 0, whether to classify patient i as probably having heart disease:')\n",
    "print((1-p_a_given_y1) * p_y_equal_1 > (1-p_a_given_y0) * p_y_equal_0)"
   ]
  },
  {
   "cell_type": "markdown",
   "id": "367f7a97d7862fb0",
   "metadata": {
    "collapsed": false,
    "jupyter": {
     "outputs_hidden": false
    }
   },
   "source": [
    "Therefore, we will classify patient $i$ as probably having heart disease iff their $A_i=1$."
   ]
  },
  {
   "cell_type": "code",
   "execution_count": 12,
   "id": "cdaa42cf78f41fc8",
   "metadata": {
    "ExecuteTime": {
     "end_time": "2023-09-28T05:48:27.777593100Z",
     "start_time": "2023-09-28T05:48:26.193092300Z"
    },
    "collapsed": false,
    "jupyter": {
     "outputs_hidden": false
    }
   },
   "outputs": [
    {
     "name": "stdout",
     "output_type": "stream",
     "text": [
      "The test accuracy is: 0.6756756756756757\n"
     ]
    },
    {
     "data": {
      "text/html": [
       "<div>\n",
       "<style scoped>\n",
       "    .dataframe tbody tr th:only-of-type {\n",
       "        vertical-align: middle;\n",
       "    }\n",
       "\n",
       "    .dataframe tbody tr th {\n",
       "        vertical-align: top;\n",
       "    }\n",
       "\n",
       "    .dataframe thead th {\n",
       "        text-align: right;\n",
       "    }\n",
       "</style>\n",
       "<table border=\"1\" class=\"dataframe\">\n",
       "  <thead>\n",
       "    <tr style=\"text-align: right;\">\n",
       "      <th></th>\n",
       "      <th>A</th>\n",
       "      <th>E</th>\n",
       "      <th>Y</th>\n",
       "      <th>predY_A</th>\n",
       "    </tr>\n",
       "  </thead>\n",
       "  <tbody>\n",
       "    <tr>\n",
       "      <th>0</th>\n",
       "      <td>1</td>\n",
       "      <td>0</td>\n",
       "      <td>0</td>\n",
       "      <td>1</td>\n",
       "    </tr>\n",
       "    <tr>\n",
       "      <th>1</th>\n",
       "      <td>0</td>\n",
       "      <td>0</td>\n",
       "      <td>0</td>\n",
       "      <td>0</td>\n",
       "    </tr>\n",
       "    <tr>\n",
       "      <th>2</th>\n",
       "      <td>0</td>\n",
       "      <td>1</td>\n",
       "      <td>0</td>\n",
       "      <td>0</td>\n",
       "    </tr>\n",
       "    <tr>\n",
       "      <th>3</th>\n",
       "      <td>1</td>\n",
       "      <td>0</td>\n",
       "      <td>1</td>\n",
       "      <td>1</td>\n",
       "    </tr>\n",
       "    <tr>\n",
       "      <th>4</th>\n",
       "      <td>1</td>\n",
       "      <td>1</td>\n",
       "      <td>1</td>\n",
       "      <td>1</td>\n",
       "    </tr>\n",
       "  </tbody>\n",
       "</table>\n",
       "</div>"
      ],
      "text/plain": [
       "   A  E  Y  predY_A\n",
       "0  1  0  0        1\n",
       "1  0  0  0        0\n",
       "2  0  1  0        0\n",
       "3  1  0  1        1\n",
       "4  1  1  1        1"
      ]
     },
     "metadata": {},
     "output_type": "display_data"
    }
   ],
   "source": [
    "from sklearn.metrics import accuracy_score\n",
    "\n",
    "df_test['predY_A'] = np.where(df_test['A']==1, 1, 0)\n",
    "print('The test accuracy is:', accuracy_score(df_test['Y'], df_test['predY_A']))\n",
    "\n",
    "display(df_test.head(5))"
   ]
  },
  {
   "cell_type": "markdown",
   "id": "5e42dce6dd6f55dd",
   "metadata": {
    "collapsed": false,
    "jupyter": {
     "outputs_hidden": false
    }
   },
   "source": [
    "(c) Consider now the feature $E_{i}$, where $E_{i} = 1$ if exercise causes patient $i$ to experience chest pain, and $E_{i} = 0$ if it does not. Estimate and report conditional probabilities for this new feature as in part (a). What is the accuracy of a Bayesian classifier based on feature $E_{i}$ on the data in testPatient?"
   ]
  },
  {
   "cell_type": "code",
   "execution_count": 13,
   "id": "7fc0b1795a61a4f0",
   "metadata": {
    "ExecuteTime": {
     "end_time": "2023-09-28T05:51:21.100881600Z",
     "start_time": "2023-09-28T05:51:21.084923300Z"
    },
    "collapsed": false,
    "jupyter": {
     "outputs_hidden": false
    }
   },
   "outputs": [
    {
     "name": "stdout",
     "output_type": "stream",
     "text": [
      "The estimated values are:\n",
      "P(Yi=1) = 0.46\n",
      "P(Yi=0) = 0.54\n",
      "P(Ei=1|Yi=1) = 0.43478260869565216\n",
      "P(Ei=1|Yi=0) = 0.18518518518518517\n"
     ]
    }
   ],
   "source": [
    "# n = df_train.shape[0]\n",
    "# n0 = df_train[df_train['Y']==0].shape[0]\n",
    "# n1 = df_train[df_train['Y']==1].shape[0]\n",
    "n0_E = df_train[(df_train['Y']==0)&(df_train['E']==1)].shape[0]\n",
    "n1_E = df_train[(df_train['Y']==1)&(df_train['E']==1)].shape[0]\n",
    "\n",
    "# p_y_equal_1 = n1/n\n",
    "# p_y_equal_0 = n0/n\n",
    "p_e_given_y1 = n1_E/n1\n",
    "p_e_given_y0 = n0_E/n0\n",
    "\n",
    "print('The estimated values are:')\n",
    "print('P(Yi=1) =', p_y_equal_1)\n",
    "print('P(Yi=0) =', p_y_equal_0)\n",
    "print('P(Ei=1|Yi=1) =', p_e_given_y1)\n",
    "print('P(Ei=1|Yi=0) =', p_e_given_y0)"
   ]
  },
  {
   "cell_type": "code",
   "execution_count": 14,
   "id": "c7f7c9686e14211f",
   "metadata": {
    "ExecuteTime": {
     "end_time": "2023-09-28T05:52:11.796190500Z",
     "start_time": "2023-09-28T05:52:11.780168400Z"
    },
    "collapsed": false,
    "jupyter": {
     "outputs_hidden": false
    }
   },
   "outputs": [
    {
     "name": "stdout",
     "output_type": "stream",
     "text": [
      "If Ei = 1, whether to classify patient i as probably having heart disease:\n",
      "True\n",
      "If Ei = 0, whether to classify patient i as probably having heart disease:\n",
      "False\n"
     ]
    }
   ],
   "source": [
    "print('If Ei = 1, whether to classify patient i as probably having heart disease:')\n",
    "print(p_e_given_y1 * p_y_equal_1 > p_e_given_y0 * p_y_equal_0)\n",
    "print('If Ei = 0, whether to classify patient i as probably having heart disease:')\n",
    "print((1-p_e_given_y1) * p_y_equal_1 > (1-p_e_given_y0) * p_y_equal_0)"
   ]
  },
  {
   "cell_type": "markdown",
   "id": "a14b3cefac71dc3c",
   "metadata": {
    "collapsed": false,
    "jupyter": {
     "outputs_hidden": false
    }
   },
   "source": [
    "Therefore, we will classify patient $i$ as probably having heart disease iff their $E_i=1$."
   ]
  },
  {
   "cell_type": "code",
   "execution_count": 15,
   "id": "37e2bd5cf384cf1a",
   "metadata": {
    "ExecuteTime": {
     "end_time": "2023-09-28T05:53:19.940483200Z",
     "start_time": "2023-09-28T05:53:19.908526300Z"
    },
    "collapsed": false,
    "jupyter": {
     "outputs_hidden": false
    }
   },
   "outputs": [
    {
     "name": "stdout",
     "output_type": "stream",
     "text": [
      "The new test accuracy is: 0.7567567567567568\n"
     ]
    },
    {
     "data": {
      "text/html": [
       "<div>\n",
       "<style scoped>\n",
       "    .dataframe tbody tr th:only-of-type {\n",
       "        vertical-align: middle;\n",
       "    }\n",
       "\n",
       "    .dataframe tbody tr th {\n",
       "        vertical-align: top;\n",
       "    }\n",
       "\n",
       "    .dataframe thead th {\n",
       "        text-align: right;\n",
       "    }\n",
       "</style>\n",
       "<table border=\"1\" class=\"dataframe\">\n",
       "  <thead>\n",
       "    <tr style=\"text-align: right;\">\n",
       "      <th></th>\n",
       "      <th>A</th>\n",
       "      <th>E</th>\n",
       "      <th>Y</th>\n",
       "      <th>predY_A</th>\n",
       "      <th>predY_E</th>\n",
       "    </tr>\n",
       "  </thead>\n",
       "  <tbody>\n",
       "    <tr>\n",
       "      <th>0</th>\n",
       "      <td>1</td>\n",
       "      <td>0</td>\n",
       "      <td>0</td>\n",
       "      <td>1</td>\n",
       "      <td>0</td>\n",
       "    </tr>\n",
       "    <tr>\n",
       "      <th>1</th>\n",
       "      <td>0</td>\n",
       "      <td>0</td>\n",
       "      <td>0</td>\n",
       "      <td>0</td>\n",
       "      <td>0</td>\n",
       "    </tr>\n",
       "    <tr>\n",
       "      <th>2</th>\n",
       "      <td>0</td>\n",
       "      <td>1</td>\n",
       "      <td>0</td>\n",
       "      <td>0</td>\n",
       "      <td>1</td>\n",
       "    </tr>\n",
       "    <tr>\n",
       "      <th>3</th>\n",
       "      <td>1</td>\n",
       "      <td>0</td>\n",
       "      <td>1</td>\n",
       "      <td>1</td>\n",
       "      <td>0</td>\n",
       "    </tr>\n",
       "    <tr>\n",
       "      <th>4</th>\n",
       "      <td>1</td>\n",
       "      <td>1</td>\n",
       "      <td>1</td>\n",
       "      <td>1</td>\n",
       "      <td>1</td>\n",
       "    </tr>\n",
       "  </tbody>\n",
       "</table>\n",
       "</div>"
      ],
      "text/plain": [
       "   A  E  Y  predY_A  predY_E\n",
       "0  1  0  0        1        0\n",
       "1  0  0  0        0        0\n",
       "2  0  1  0        0        1\n",
       "3  1  0  1        1        0\n",
       "4  1  1  1        1        1"
      ]
     },
     "metadata": {},
     "output_type": "display_data"
    }
   ],
   "source": [
    "df_test['predY_E'] = np.where(df_test['E']==1, 1, 0)\n",
    "print('The new test accuracy is:', accuracy_score(df_test['Y'], df_test['predY_E']))\n",
    "\n",
    "display(df_test.head(5))"
   ]
  },
  {
   "cell_type": "markdown",
   "id": "5aa4c17852efe9b",
   "metadata": {
    "collapsed": false,
    "jupyter": {
     "outputs_hidden": false
    }
   },
   "source": [
    "(d) Consider the pair of features $\\{A_{i}, E_{i}\\}$. This pair of features can take on 4 values:\n",
    "$\\{0, 0\\}, \\{0, 1\\}, \\{1, 0\\}$ or $\\{1, 1\\}$ (we do $not$ assume that $A_{i}$ and $E_{i}$ are independent). By counting as in part (a), compute and report the probabilities of these four events given $Y_{i} = 1$ and given $Y_{i} = 0$. What is the accuracy of a Bayesian classifier based on feature $\\{A_{i}, E_{i}\\}$ on the data in testPatient? Compare the accuracy of this classifier to those from parts (b) and (c), and give an intuitive explanation for what you observe."
   ]
  },
  {
   "cell_type": "code",
   "execution_count": 18,
   "id": "af561059f2544d6",
   "metadata": {
    "ExecuteTime": {
     "end_time": "2023-09-28T06:04:54.791750500Z",
     "start_time": "2023-09-28T06:04:54.765647400Z"
    },
    "collapsed": false,
    "jupyter": {
     "outputs_hidden": false
    }
   },
   "outputs": [
    {
     "name": "stdout",
     "output_type": "stream",
     "text": [
      "The estimated values are:\n",
      "P(Yi=1) = 0.46\n",
      "P(Yi=0) = 0.54 \n",
      "\n",
      "P(Ai=0, Ei=1|Yi=1) = 0.21739130434782608\n",
      "P(Ai=1, Ei=1|Yi=1) = 0.21739130434782608\n",
      "P(Ai=0, Ei=0|Yi=1) = 0.30434782608695654\n",
      "P(Ai=1, Ei=0|Yi=1) = 0.2608695652173913 \n",
      "\n",
      "P(Ai=0, Ei=1|Yi=0) = 0.14814814814814814\n",
      "P(Ai=1, Ei=1|Yi=0) = 0.037037037037037035\n",
      "P(Ai=0, Ei=0|Yi=0) = 0.5185185185185185\n",
      "P(Ai=1, Ei=0|Yi=0) = 0.2962962962962963\n"
     ]
    }
   ],
   "source": [
    "# n = df_train.shape[0]\n",
    "# n0 = df_train[df_train['Y']==0].shape[0]\n",
    "# n1 = df_train[df_train['Y']==1].shape[0]\n",
    "n0_A0E1 = df_train[(df_train['Y']==0)&(df_train['A']==0)&(df_train['E']==1)].shape[0]\n",
    "n0_A1E1 = df_train[(df_train['Y']==0)&(df_train['A']==1)&(df_train['E']==1)].shape[0]\n",
    "n0_A0E0 = df_train[(df_train['Y']==0)&(df_train['A']==0)&(df_train['E']==0)].shape[0]\n",
    "n0_A1E0 = df_train[(df_train['Y']==0)&(df_train['A']==1)&(df_train['E']==0)].shape[0]\n",
    "\n",
    "n1_A0E1 = df_train[(df_train['Y']==1)&(df_train['A']==0)&(df_train['E']==1)].shape[0]\n",
    "n1_A1E1 = df_train[(df_train['Y']==1)&(df_train['A']==1)&(df_train['E']==1)].shape[0]\n",
    "n1_A0E0 = df_train[(df_train['Y']==1)&(df_train['A']==0)&(df_train['E']==0)].shape[0]\n",
    "n1_A1E0 = df_train[(df_train['Y']==1)&(df_train['A']==1)&(df_train['E']==0)].shape[0]\n",
    "\n",
    "# p_y_equal_1 = n1/n\n",
    "# p_y_equal_0 = n0/n\n",
    "p_A0E1_given_y1 = n1_A0E1/n1\n",
    "p_A1E1_given_y1 = n1_A1E1/n1\n",
    "p_A0E0_given_y1 = n1_A0E0/n1\n",
    "p_A1E0_given_y1 = n1_A1E0/n1\n",
    "\n",
    "p_e_given_y0 = n0_E/n0\n",
    "p_A0E1_given_y0 = n0_A0E1/n0\n",
    "p_A1E1_given_y0 = n0_A1E1/n0\n",
    "p_A0E0_given_y0 = n0_A0E0/n0\n",
    "p_A1E0_given_y0 = n0_A1E0/n0\n",
    "\n",
    "print('The estimated values are:')\n",
    "print('P(Yi=1) =', p_y_equal_1)\n",
    "print('P(Yi=0) =', p_y_equal_0, '\\n')\n",
    "\n",
    "print('P(Ai=0, Ei=1|Yi=1) =', p_A0E1_given_y1)\n",
    "print('P(Ai=1, Ei=1|Yi=1) =', p_A1E1_given_y1)\n",
    "print('P(Ai=0, Ei=0|Yi=1) =', p_A0E0_given_y1)\n",
    "print('P(Ai=1, Ei=0|Yi=1) =', p_A1E0_given_y1, '\\n')\n",
    "\n",
    "print('P(Ai=0, Ei=1|Yi=0) =', p_A0E1_given_y0)\n",
    "print('P(Ai=1, Ei=1|Yi=0) =', p_A1E1_given_y0)\n",
    "print('P(Ai=0, Ei=0|Yi=0) =', p_A0E0_given_y0)\n",
    "print('P(Ai=1, Ei=0|Yi=0) =', p_A1E0_given_y0)"
   ]
  },
  {
   "cell_type": "code",
   "execution_count": 19,
   "id": "4524ed2db9619d86",
   "metadata": {
    "ExecuteTime": {
     "end_time": "2023-09-28T06:07:23.676833900Z",
     "start_time": "2023-09-28T06:07:23.632361300Z"
    },
    "collapsed": false,
    "jupyter": {
     "outputs_hidden": false
    }
   },
   "outputs": [
    {
     "name": "stdout",
     "output_type": "stream",
     "text": [
      "If Ai=0, Ei = 1, whether to classify patient i as probably having heart disease:\n",
      "True\n",
      "If Ai=1, Ei = 1, whether to classify patient i as probably having heart disease:\n",
      "True\n",
      "If Ai=0, Ei = 0, whether to classify patient i as probably having heart disease:\n",
      "False\n",
      "If Ai=1, Ei = 0, whether to classify patient i as probably having heart disease:\n",
      "False\n"
     ]
    }
   ],
   "source": [
    "print('If Ai=0, Ei = 1, whether to classify patient i as probably having heart disease:')\n",
    "print(p_A0E1_given_y1 * p_y_equal_1 > p_A0E1_given_y0 * p_y_equal_0)\n",
    "print('If Ai=1, Ei = 1, whether to classify patient i as probably having heart disease:')\n",
    "print(p_A1E1_given_y1 * p_y_equal_1 > p_A1E1_given_y0 * p_y_equal_0)\n",
    "print('If Ai=0, Ei = 0, whether to classify patient i as probably having heart disease:')\n",
    "print(p_A0E0_given_y1 * p_y_equal_1 > p_A0E0_given_y0 * p_y_equal_0)\n",
    "print('If Ai=1, Ei = 0, whether to classify patient i as probably having heart disease:')\n",
    "print(p_A1E0_given_y1 * p_y_equal_1 > p_A1E0_given_y0 * p_y_equal_0)"
   ]
  },
  {
   "cell_type": "code",
   "execution_count": 20,
   "id": "17a9484641c704a2",
   "metadata": {
    "ExecuteTime": {
     "end_time": "2023-09-28T06:10:40.681231400Z",
     "start_time": "2023-09-28T06:10:40.634201300Z"
    },
    "collapsed": false,
    "jupyter": {
     "outputs_hidden": false
    }
   },
   "outputs": [
    {
     "name": "stdout",
     "output_type": "stream",
     "text": [
      "The new test accuracy is: 0.7567567567567568\n"
     ]
    },
    {
     "data": {
      "text/html": [
       "<div>\n",
       "<style scoped>\n",
       "    .dataframe tbody tr th:only-of-type {\n",
       "        vertical-align: middle;\n",
       "    }\n",
       "\n",
       "    .dataframe tbody tr th {\n",
       "        vertical-align: top;\n",
       "    }\n",
       "\n",
       "    .dataframe thead th {\n",
       "        text-align: right;\n",
       "    }\n",
       "</style>\n",
       "<table border=\"1\" class=\"dataframe\">\n",
       "  <thead>\n",
       "    <tr style=\"text-align: right;\">\n",
       "      <th></th>\n",
       "      <th>A</th>\n",
       "      <th>E</th>\n",
       "      <th>Y</th>\n",
       "      <th>predY_A</th>\n",
       "      <th>predY_E</th>\n",
       "      <th>predY_AE</th>\n",
       "    </tr>\n",
       "  </thead>\n",
       "  <tbody>\n",
       "    <tr>\n",
       "      <th>0</th>\n",
       "      <td>1</td>\n",
       "      <td>0</td>\n",
       "      <td>0</td>\n",
       "      <td>1</td>\n",
       "      <td>0</td>\n",
       "      <td>0</td>\n",
       "    </tr>\n",
       "    <tr>\n",
       "      <th>1</th>\n",
       "      <td>0</td>\n",
       "      <td>0</td>\n",
       "      <td>0</td>\n",
       "      <td>0</td>\n",
       "      <td>0</td>\n",
       "      <td>0</td>\n",
       "    </tr>\n",
       "    <tr>\n",
       "      <th>2</th>\n",
       "      <td>0</td>\n",
       "      <td>1</td>\n",
       "      <td>0</td>\n",
       "      <td>0</td>\n",
       "      <td>1</td>\n",
       "      <td>1</td>\n",
       "    </tr>\n",
       "    <tr>\n",
       "      <th>3</th>\n",
       "      <td>1</td>\n",
       "      <td>0</td>\n",
       "      <td>1</td>\n",
       "      <td>1</td>\n",
       "      <td>0</td>\n",
       "      <td>0</td>\n",
       "    </tr>\n",
       "    <tr>\n",
       "      <th>4</th>\n",
       "      <td>1</td>\n",
       "      <td>1</td>\n",
       "      <td>1</td>\n",
       "      <td>1</td>\n",
       "      <td>1</td>\n",
       "      <td>1</td>\n",
       "    </tr>\n",
       "  </tbody>\n",
       "</table>\n",
       "</div>"
      ],
      "text/plain": [
       "   A  E  Y  predY_A  predY_E  predY_AE\n",
       "0  1  0  0        1        0         0\n",
       "1  0  0  0        0        0         0\n",
       "2  0  1  0        0        1         1\n",
       "3  1  0  1        1        0         0\n",
       "4  1  1  1        1        1         1"
      ]
     },
     "metadata": {},
     "output_type": "display_data"
    }
   ],
   "source": [
    "# We can see from the above that the value of A won't affect the prediction\n",
    "df_test['predY_AE'] = np.where((df_test['E']==1), 1, 0)\n",
    "\n",
    "print('The new test accuracy is:', accuracy_score(df_test['Y'], df_test['predY_AE']))\n",
    "\n",
    "display(df_test.head(5))"
   ]
  },
  {
   "cell_type": "markdown",
   "id": "d034ce6fe8b24377",
   "metadata": {
    "collapsed": false,
    "jupyter": {
     "outputs_hidden": false
    }
   },
   "source": [
    "**Finding:** The accuracy in (d) is the same as that in (c), and is larger than that in (b).\n",
    "\n",
    "**Intuitive Explanation:** The prediction using two features should be no less than the best prediction using a single feature theoretically if the data is well-fitted. Therefore, since the accuracy using $A$ is lower than that using $E$, the collaborative result is the same as $E$, and feature $A$ might not be that useful in our setting."
   ]
  },
  {
   "cell_type": "code",
   "execution_count": null,
   "id": "ea6ef156174e4b6b",
   "metadata": {
    "collapsed": false,
    "jupyter": {
     "outputs_hidden": false
    }
   },
   "outputs": [],
   "source": []
  }
 ],
 "metadata": {
  "kernelspec": {
   "display_name": "Python 3 (ipykernel)",
   "language": "python",
   "name": "python3"
  },
  "language_info": {
   "codemirror_mode": {
    "name": "ipython",
    "version": 3
   },
   "file_extension": ".py",
   "mimetype": "text/x-python",
   "name": "python",
   "nbconvert_exporter": "python",
   "pygments_lexer": "ipython3",
   "version": "3.11.4"
  }
 },
 "nbformat": 4,
 "nbformat_minor": 5
}
